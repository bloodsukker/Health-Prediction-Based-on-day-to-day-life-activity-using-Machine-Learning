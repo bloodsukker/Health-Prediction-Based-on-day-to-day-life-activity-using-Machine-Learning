{
 "cells": [
  {
   "cell_type": "code",
   "execution_count": 133,
   "id": "aaee4d57-35dc-42a4-bb7c-26f4fe8cac05",
   "metadata": {},
   "outputs": [],
   "source": [
    "import numpy as np\n",
    "import pandas as pd\n",
    "import matplotlib.pyplot as plt\n",
    "import seaborn as sns\n",
    "import random"
   ]
  },
  {
   "cell_type": "code",
   "execution_count": 134,
   "id": "3178eea0-422b-47ef-8547-1ec3189cedef",
   "metadata": {},
   "outputs": [],
   "source": [
    "df=pd.read_csv(r\"C:\\Users\\CHAKRI PRIYA\\Downloads\\project\\Sleep_health_and_lifestyle_dataset.csv\")"
   ]
  },
  {
   "cell_type": "code",
   "execution_count": 135,
   "id": "914445d7-1682-494d-ae1f-e01256ad73db",
   "metadata": {},
   "outputs": [
    {
     "data": {
      "text/html": [
       "<div>\n",
       "<style scoped>\n",
       "    .dataframe tbody tr th:only-of-type {\n",
       "        vertical-align: middle;\n",
       "    }\n",
       "\n",
       "    .dataframe tbody tr th {\n",
       "        vertical-align: top;\n",
       "    }\n",
       "\n",
       "    .dataframe thead th {\n",
       "        text-align: right;\n",
       "    }\n",
       "</style>\n",
       "<table border=\"1\" class=\"dataframe\">\n",
       "  <thead>\n",
       "    <tr style=\"text-align: right;\">\n",
       "      <th></th>\n",
       "      <th>Person ID</th>\n",
       "      <th>Gender</th>\n",
       "      <th>Age</th>\n",
       "      <th>Occupation</th>\n",
       "      <th>Sleep Duration</th>\n",
       "      <th>Quality of Sleep</th>\n",
       "      <th>Physical Activity Level</th>\n",
       "      <th>Stress Level</th>\n",
       "      <th>BMI Category</th>\n",
       "      <th>Blood Pressure</th>\n",
       "      <th>Heart Rate</th>\n",
       "      <th>Daily Steps</th>\n",
       "      <th>Sleep Disorder</th>\n",
       "    </tr>\n",
       "  </thead>\n",
       "  <tbody>\n",
       "    <tr>\n",
       "      <th>0</th>\n",
       "      <td>1</td>\n",
       "      <td>Male</td>\n",
       "      <td>27</td>\n",
       "      <td>Software Engineer</td>\n",
       "      <td>6.1</td>\n",
       "      <td>6</td>\n",
       "      <td>42</td>\n",
       "      <td>6</td>\n",
       "      <td>Overweight</td>\n",
       "      <td>126/83</td>\n",
       "      <td>77</td>\n",
       "      <td>4200</td>\n",
       "      <td>NaN</td>\n",
       "    </tr>\n",
       "    <tr>\n",
       "      <th>1</th>\n",
       "      <td>2</td>\n",
       "      <td>Male</td>\n",
       "      <td>28</td>\n",
       "      <td>Doctor</td>\n",
       "      <td>6.2</td>\n",
       "      <td>6</td>\n",
       "      <td>60</td>\n",
       "      <td>8</td>\n",
       "      <td>Normal</td>\n",
       "      <td>125/80</td>\n",
       "      <td>75</td>\n",
       "      <td>10000</td>\n",
       "      <td>NaN</td>\n",
       "    </tr>\n",
       "    <tr>\n",
       "      <th>2</th>\n",
       "      <td>3</td>\n",
       "      <td>Male</td>\n",
       "      <td>28</td>\n",
       "      <td>Doctor</td>\n",
       "      <td>6.2</td>\n",
       "      <td>6</td>\n",
       "      <td>60</td>\n",
       "      <td>8</td>\n",
       "      <td>Normal</td>\n",
       "      <td>125/80</td>\n",
       "      <td>75</td>\n",
       "      <td>10000</td>\n",
       "      <td>NaN</td>\n",
       "    </tr>\n",
       "    <tr>\n",
       "      <th>3</th>\n",
       "      <td>4</td>\n",
       "      <td>Male</td>\n",
       "      <td>28</td>\n",
       "      <td>Sales Representative</td>\n",
       "      <td>5.9</td>\n",
       "      <td>4</td>\n",
       "      <td>30</td>\n",
       "      <td>8</td>\n",
       "      <td>Obese</td>\n",
       "      <td>140/90</td>\n",
       "      <td>85</td>\n",
       "      <td>3000</td>\n",
       "      <td>Sleep Apnea</td>\n",
       "    </tr>\n",
       "    <tr>\n",
       "      <th>4</th>\n",
       "      <td>5</td>\n",
       "      <td>Male</td>\n",
       "      <td>28</td>\n",
       "      <td>Sales Representative</td>\n",
       "      <td>5.9</td>\n",
       "      <td>4</td>\n",
       "      <td>30</td>\n",
       "      <td>8</td>\n",
       "      <td>Obese</td>\n",
       "      <td>140/90</td>\n",
       "      <td>85</td>\n",
       "      <td>3000</td>\n",
       "      <td>Sleep Apnea</td>\n",
       "    </tr>\n",
       "    <tr>\n",
       "      <th>...</th>\n",
       "      <td>...</td>\n",
       "      <td>...</td>\n",
       "      <td>...</td>\n",
       "      <td>...</td>\n",
       "      <td>...</td>\n",
       "      <td>...</td>\n",
       "      <td>...</td>\n",
       "      <td>...</td>\n",
       "      <td>...</td>\n",
       "      <td>...</td>\n",
       "      <td>...</td>\n",
       "      <td>...</td>\n",
       "      <td>...</td>\n",
       "    </tr>\n",
       "    <tr>\n",
       "      <th>369</th>\n",
       "      <td>370</td>\n",
       "      <td>Female</td>\n",
       "      <td>59</td>\n",
       "      <td>Nurse</td>\n",
       "      <td>8.1</td>\n",
       "      <td>9</td>\n",
       "      <td>75</td>\n",
       "      <td>3</td>\n",
       "      <td>Overweight</td>\n",
       "      <td>140/95</td>\n",
       "      <td>68</td>\n",
       "      <td>7000</td>\n",
       "      <td>Sleep Apnea</td>\n",
       "    </tr>\n",
       "    <tr>\n",
       "      <th>370</th>\n",
       "      <td>371</td>\n",
       "      <td>Female</td>\n",
       "      <td>59</td>\n",
       "      <td>Nurse</td>\n",
       "      <td>8.0</td>\n",
       "      <td>9</td>\n",
       "      <td>75</td>\n",
       "      <td>3</td>\n",
       "      <td>Overweight</td>\n",
       "      <td>140/95</td>\n",
       "      <td>68</td>\n",
       "      <td>7000</td>\n",
       "      <td>Sleep Apnea</td>\n",
       "    </tr>\n",
       "    <tr>\n",
       "      <th>371</th>\n",
       "      <td>372</td>\n",
       "      <td>Female</td>\n",
       "      <td>59</td>\n",
       "      <td>Nurse</td>\n",
       "      <td>8.1</td>\n",
       "      <td>9</td>\n",
       "      <td>75</td>\n",
       "      <td>3</td>\n",
       "      <td>Overweight</td>\n",
       "      <td>140/95</td>\n",
       "      <td>68</td>\n",
       "      <td>7000</td>\n",
       "      <td>Sleep Apnea</td>\n",
       "    </tr>\n",
       "    <tr>\n",
       "      <th>372</th>\n",
       "      <td>373</td>\n",
       "      <td>Female</td>\n",
       "      <td>59</td>\n",
       "      <td>Nurse</td>\n",
       "      <td>8.1</td>\n",
       "      <td>9</td>\n",
       "      <td>75</td>\n",
       "      <td>3</td>\n",
       "      <td>Overweight</td>\n",
       "      <td>140/95</td>\n",
       "      <td>68</td>\n",
       "      <td>7000</td>\n",
       "      <td>Sleep Apnea</td>\n",
       "    </tr>\n",
       "    <tr>\n",
       "      <th>373</th>\n",
       "      <td>374</td>\n",
       "      <td>Female</td>\n",
       "      <td>59</td>\n",
       "      <td>Nurse</td>\n",
       "      <td>8.1</td>\n",
       "      <td>9</td>\n",
       "      <td>75</td>\n",
       "      <td>3</td>\n",
       "      <td>Overweight</td>\n",
       "      <td>140/95</td>\n",
       "      <td>68</td>\n",
       "      <td>7000</td>\n",
       "      <td>Sleep Apnea</td>\n",
       "    </tr>\n",
       "  </tbody>\n",
       "</table>\n",
       "<p>374 rows × 13 columns</p>\n",
       "</div>"
      ],
      "text/plain": [
       "     Person ID  Gender  Age            Occupation  Sleep Duration  \\\n",
       "0            1    Male   27     Software Engineer             6.1   \n",
       "1            2    Male   28                Doctor             6.2   \n",
       "2            3    Male   28                Doctor             6.2   \n",
       "3            4    Male   28  Sales Representative             5.9   \n",
       "4            5    Male   28  Sales Representative             5.9   \n",
       "..         ...     ...  ...                   ...             ...   \n",
       "369        370  Female   59                 Nurse             8.1   \n",
       "370        371  Female   59                 Nurse             8.0   \n",
       "371        372  Female   59                 Nurse             8.1   \n",
       "372        373  Female   59                 Nurse             8.1   \n",
       "373        374  Female   59                 Nurse             8.1   \n",
       "\n",
       "     Quality of Sleep  Physical Activity Level  Stress Level BMI Category  \\\n",
       "0                   6                       42             6   Overweight   \n",
       "1                   6                       60             8       Normal   \n",
       "2                   6                       60             8       Normal   \n",
       "3                   4                       30             8        Obese   \n",
       "4                   4                       30             8        Obese   \n",
       "..                ...                      ...           ...          ...   \n",
       "369                 9                       75             3   Overweight   \n",
       "370                 9                       75             3   Overweight   \n",
       "371                 9                       75             3   Overweight   \n",
       "372                 9                       75             3   Overweight   \n",
       "373                 9                       75             3   Overweight   \n",
       "\n",
       "    Blood Pressure  Heart Rate  Daily Steps Sleep Disorder  \n",
       "0           126/83          77         4200            NaN  \n",
       "1           125/80          75        10000            NaN  \n",
       "2           125/80          75        10000            NaN  \n",
       "3           140/90          85         3000    Sleep Apnea  \n",
       "4           140/90          85         3000    Sleep Apnea  \n",
       "..             ...         ...          ...            ...  \n",
       "369         140/95          68         7000    Sleep Apnea  \n",
       "370         140/95          68         7000    Sleep Apnea  \n",
       "371         140/95          68         7000    Sleep Apnea  \n",
       "372         140/95          68         7000    Sleep Apnea  \n",
       "373         140/95          68         7000    Sleep Apnea  \n",
       "\n",
       "[374 rows x 13 columns]"
      ]
     },
     "execution_count": 135,
     "metadata": {},
     "output_type": "execute_result"
    }
   ],
   "source": [
    "df"
   ]
  },
  {
   "cell_type": "code",
   "execution_count": 136,
   "id": "902a97b3-497a-417c-ae60-23ab98e1232a",
   "metadata": {},
   "outputs": [
    {
     "data": {
      "text/plain": [
       "Sleep Disorder\n",
       "Sleep Apnea    78\n",
       "Insomnia       77\n",
       "Name: count, dtype: int64"
      ]
     },
     "execution_count": 136,
     "metadata": {},
     "output_type": "execute_result"
    }
   ],
   "source": [
    "df['Sleep Disorder'].value_counts()"
   ]
  },
  {
   "cell_type": "code",
   "execution_count": 137,
   "id": "be34e5dc-a32f-4249-b903-9301714c0818",
   "metadata": {},
   "outputs": [],
   "source": [
    "df['Sleep Disorder']=df['Sleep Disorder'].fillna(\"No Disorder\")"
   ]
  },
  {
   "cell_type": "code",
   "execution_count": 138,
   "id": "68aeaee3-1f35-4507-bc2d-4eb04a7d397e",
   "metadata": {},
   "outputs": [
    {
     "data": {
      "text/plain": [
       "Sleep Disorder\n",
       "No Disorder    219\n",
       "Sleep Apnea     78\n",
       "Insomnia        77\n",
       "Name: count, dtype: int64"
      ]
     },
     "execution_count": 138,
     "metadata": {},
     "output_type": "execute_result"
    }
   ],
   "source": [
    "df['Sleep Disorder'].value_counts()"
   ]
  },
  {
   "cell_type": "code",
   "execution_count": 139,
   "id": "30882735-cb3b-4495-8680-7f4930079ffd",
   "metadata": {},
   "outputs": [
    {
     "data": {
      "text/plain": [
       "Person ID                  0\n",
       "Gender                     0\n",
       "Age                        0\n",
       "Occupation                 0\n",
       "Sleep Duration             0\n",
       "Quality of Sleep           0\n",
       "Physical Activity Level    0\n",
       "Stress Level               0\n",
       "BMI Category               0\n",
       "Blood Pressure             0\n",
       "Heart Rate                 0\n",
       "Daily Steps                0\n",
       "Sleep Disorder             0\n",
       "dtype: int64"
      ]
     },
     "execution_count": 139,
     "metadata": {},
     "output_type": "execute_result"
    }
   ],
   "source": [
    "df.isna().sum()"
   ]
  },
  {
   "cell_type": "code",
   "execution_count": 140,
   "id": "3793a3d7-5361-4ca5-b04f-b72e06f9c0e6",
   "metadata": {
    "scrolled": true
   },
   "outputs": [
    {
     "data": {
      "text/html": [
       "<div>\n",
       "<style scoped>\n",
       "    .dataframe tbody tr th:only-of-type {\n",
       "        vertical-align: middle;\n",
       "    }\n",
       "\n",
       "    .dataframe tbody tr th {\n",
       "        vertical-align: top;\n",
       "    }\n",
       "\n",
       "    .dataframe thead th {\n",
       "        text-align: right;\n",
       "    }\n",
       "</style>\n",
       "<table border=\"1\" class=\"dataframe\">\n",
       "  <thead>\n",
       "    <tr style=\"text-align: right;\">\n",
       "      <th></th>\n",
       "      <th>Person ID</th>\n",
       "      <th>Age</th>\n",
       "      <th>Sleep Duration</th>\n",
       "      <th>Quality of Sleep</th>\n",
       "      <th>Physical Activity Level</th>\n",
       "      <th>Stress Level</th>\n",
       "      <th>Heart Rate</th>\n",
       "      <th>Daily Steps</th>\n",
       "    </tr>\n",
       "  </thead>\n",
       "  <tbody>\n",
       "    <tr>\n",
       "      <th>count</th>\n",
       "      <td>374.000000</td>\n",
       "      <td>374.000000</td>\n",
       "      <td>374.000000</td>\n",
       "      <td>374.000000</td>\n",
       "      <td>374.000000</td>\n",
       "      <td>374.000000</td>\n",
       "      <td>374.000000</td>\n",
       "      <td>374.000000</td>\n",
       "    </tr>\n",
       "    <tr>\n",
       "      <th>mean</th>\n",
       "      <td>187.500000</td>\n",
       "      <td>42.184492</td>\n",
       "      <td>7.132086</td>\n",
       "      <td>7.312834</td>\n",
       "      <td>59.171123</td>\n",
       "      <td>5.385027</td>\n",
       "      <td>70.165775</td>\n",
       "      <td>6816.844920</td>\n",
       "    </tr>\n",
       "    <tr>\n",
       "      <th>std</th>\n",
       "      <td>108.108742</td>\n",
       "      <td>8.673133</td>\n",
       "      <td>0.795657</td>\n",
       "      <td>1.196956</td>\n",
       "      <td>20.830804</td>\n",
       "      <td>1.774526</td>\n",
       "      <td>4.135676</td>\n",
       "      <td>1617.915679</td>\n",
       "    </tr>\n",
       "    <tr>\n",
       "      <th>min</th>\n",
       "      <td>1.000000</td>\n",
       "      <td>27.000000</td>\n",
       "      <td>5.800000</td>\n",
       "      <td>4.000000</td>\n",
       "      <td>30.000000</td>\n",
       "      <td>3.000000</td>\n",
       "      <td>65.000000</td>\n",
       "      <td>3000.000000</td>\n",
       "    </tr>\n",
       "    <tr>\n",
       "      <th>25%</th>\n",
       "      <td>94.250000</td>\n",
       "      <td>35.250000</td>\n",
       "      <td>6.400000</td>\n",
       "      <td>6.000000</td>\n",
       "      <td>45.000000</td>\n",
       "      <td>4.000000</td>\n",
       "      <td>68.000000</td>\n",
       "      <td>5600.000000</td>\n",
       "    </tr>\n",
       "    <tr>\n",
       "      <th>50%</th>\n",
       "      <td>187.500000</td>\n",
       "      <td>43.000000</td>\n",
       "      <td>7.200000</td>\n",
       "      <td>7.000000</td>\n",
       "      <td>60.000000</td>\n",
       "      <td>5.000000</td>\n",
       "      <td>70.000000</td>\n",
       "      <td>7000.000000</td>\n",
       "    </tr>\n",
       "    <tr>\n",
       "      <th>75%</th>\n",
       "      <td>280.750000</td>\n",
       "      <td>50.000000</td>\n",
       "      <td>7.800000</td>\n",
       "      <td>8.000000</td>\n",
       "      <td>75.000000</td>\n",
       "      <td>7.000000</td>\n",
       "      <td>72.000000</td>\n",
       "      <td>8000.000000</td>\n",
       "    </tr>\n",
       "    <tr>\n",
       "      <th>max</th>\n",
       "      <td>374.000000</td>\n",
       "      <td>59.000000</td>\n",
       "      <td>8.500000</td>\n",
       "      <td>9.000000</td>\n",
       "      <td>90.000000</td>\n",
       "      <td>8.000000</td>\n",
       "      <td>86.000000</td>\n",
       "      <td>10000.000000</td>\n",
       "    </tr>\n",
       "  </tbody>\n",
       "</table>\n",
       "</div>"
      ],
      "text/plain": [
       "        Person ID         Age  Sleep Duration  Quality of Sleep  \\\n",
       "count  374.000000  374.000000      374.000000        374.000000   \n",
       "mean   187.500000   42.184492        7.132086          7.312834   \n",
       "std    108.108742    8.673133        0.795657          1.196956   \n",
       "min      1.000000   27.000000        5.800000          4.000000   \n",
       "25%     94.250000   35.250000        6.400000          6.000000   \n",
       "50%    187.500000   43.000000        7.200000          7.000000   \n",
       "75%    280.750000   50.000000        7.800000          8.000000   \n",
       "max    374.000000   59.000000        8.500000          9.000000   \n",
       "\n",
       "       Physical Activity Level  Stress Level  Heart Rate   Daily Steps  \n",
       "count               374.000000    374.000000  374.000000    374.000000  \n",
       "mean                 59.171123      5.385027   70.165775   6816.844920  \n",
       "std                  20.830804      1.774526    4.135676   1617.915679  \n",
       "min                  30.000000      3.000000   65.000000   3000.000000  \n",
       "25%                  45.000000      4.000000   68.000000   5600.000000  \n",
       "50%                  60.000000      5.000000   70.000000   7000.000000  \n",
       "75%                  75.000000      7.000000   72.000000   8000.000000  \n",
       "max                  90.000000      8.000000   86.000000  10000.000000  "
      ]
     },
     "execution_count": 140,
     "metadata": {},
     "output_type": "execute_result"
    }
   ],
   "source": [
    "df.describe()"
   ]
  },
  {
   "cell_type": "code",
   "execution_count": 141,
   "id": "5c41765a-dc2d-4681-809d-7281324310d9",
   "metadata": {},
   "outputs": [
    {
     "name": "stdout",
     "output_type": "stream",
     "text": [
      "<class 'pandas.core.frame.DataFrame'>\n",
      "RangeIndex: 374 entries, 0 to 373\n",
      "Data columns (total 13 columns):\n",
      " #   Column                   Non-Null Count  Dtype  \n",
      "---  ------                   --------------  -----  \n",
      " 0   Person ID                374 non-null    int64  \n",
      " 1   Gender                   374 non-null    object \n",
      " 2   Age                      374 non-null    int64  \n",
      " 3   Occupation               374 non-null    object \n",
      " 4   Sleep Duration           374 non-null    float64\n",
      " 5   Quality of Sleep         374 non-null    int64  \n",
      " 6   Physical Activity Level  374 non-null    int64  \n",
      " 7   Stress Level             374 non-null    int64  \n",
      " 8   BMI Category             374 non-null    object \n",
      " 9   Blood Pressure           374 non-null    object \n",
      " 10  Heart Rate               374 non-null    int64  \n",
      " 11  Daily Steps              374 non-null    int64  \n",
      " 12  Sleep Disorder           374 non-null    object \n",
      "dtypes: float64(1), int64(7), object(5)\n",
      "memory usage: 38.1+ KB\n"
     ]
    }
   ],
   "source": [
    "df.info()"
   ]
  },
  {
   "cell_type": "code",
   "execution_count": 142,
   "id": "6048c919-214e-4fd1-a9c7-86ad1fa61b4e",
   "metadata": {},
   "outputs": [
    {
     "data": {
      "text/plain": [
       "Person ID                    int64\n",
       "Gender                      object\n",
       "Age                          int64\n",
       "Occupation                  object\n",
       "Sleep Duration             float64\n",
       "Quality of Sleep             int64\n",
       "Physical Activity Level      int64\n",
       "Stress Level                 int64\n",
       "BMI Category                object\n",
       "Blood Pressure              object\n",
       "Heart Rate                   int64\n",
       "Daily Steps                  int64\n",
       "Sleep Disorder              object\n",
       "dtype: object"
      ]
     },
     "execution_count": 142,
     "metadata": {},
     "output_type": "execute_result"
    }
   ],
   "source": [
    "df.dtypes"
   ]
  },
  {
   "cell_type": "code",
   "execution_count": 143,
   "id": "532924da-28ab-4492-bdab-415704c3e1d2",
   "metadata": {},
   "outputs": [
    {
     "data": {
      "text/plain": [
       "Blood Pressure\n",
       "130/85    99\n",
       "140/95    65\n",
       "125/80    65\n",
       "120/80    45\n",
       "115/75    32\n",
       "135/90    27\n",
       "140/90     4\n",
       "125/82     4\n",
       "132/87     3\n",
       "128/85     3\n",
       "126/83     2\n",
       "115/78     2\n",
       "139/91     2\n",
       "142/92     2\n",
       "119/77     2\n",
       "135/88     2\n",
       "129/84     2\n",
       "128/84     2\n",
       "131/86     2\n",
       "117/76     2\n",
       "130/86     2\n",
       "118/75     2\n",
       "121/79     1\n",
       "122/80     1\n",
       "118/76     1\n",
       "Name: count, dtype: int64"
      ]
     },
     "execution_count": 143,
     "metadata": {},
     "output_type": "execute_result"
    }
   ],
   "source": [
    "df['Blood Pressure'].value_counts()"
   ]
  },
  {
   "cell_type": "code",
   "execution_count": 144,
   "id": "558f9e75-acdf-4c77-9f66-c7e282398dd8",
   "metadata": {},
   "outputs": [
    {
     "data": {
      "text/plain": [
       "BMI Category\n",
       "Normal           195\n",
       "Overweight       148\n",
       "Normal Weight     21\n",
       "Obese             10\n",
       "Name: count, dtype: int64"
      ]
     },
     "execution_count": 144,
     "metadata": {},
     "output_type": "execute_result"
    }
   ],
   "source": [
    "df['BMI Category'].value_counts()"
   ]
  },
  {
   "cell_type": "code",
   "execution_count": 145,
   "id": "c6ceeda9-8839-4bab-b321-0fb783c7370a",
   "metadata": {},
   "outputs": [],
   "source": [
    "df.drop(columns=['Person ID'],inplace=True)"
   ]
  },
  {
   "cell_type": "code",
   "execution_count": 146,
   "id": "42445f74-8fe3-4e8a-a63b-df78723efe4f",
   "metadata": {},
   "outputs": [
    {
     "data": {
      "image/png": "[encoded data removed]",
      "text/plain": [
       "<Figure size 600x400 with 1 Axes>"
      ]
     },
     "metadata": {},
     "output_type": "display_data"
    }
   ],
   "source": [
    "df['Gender'].value_counts().plot(kind='bar', color=['skyblue', 'salmon'], figsize=(6, 4))\n",
    "plt.title('Gender Distribution')\n",
    "plt.xlabel('Gender')\n",
    "plt.ylabel('Count')\n",
    "plt.show()"
   ]
  },
  {
   "cell_type": "code",
   "execution_count": 147,
   "id": "85214c23-6115-476f-b1ed-94b83967d8d9",
   "metadata": {},
   "outputs": [
    {
     "data": {
      "image/png": "[encoded data removed]",
      "text/plain": [
       "<Figure size 600x400 with 1 Axes>"
      ]
     },
     "metadata": {},
     "output_type": "display_data"
    }
   ],
   "source": [
    "df['Age'].plot(kind='hist', bins=10, color='purple', edgecolor='black', figsize=(6, 4))\n",
    "plt.title('Age Distribution')\n",
    "plt.xlabel('Age')\n",
    "plt.ylabel('Frequency')\n",
    "plt.show()\n"
   ]
  },
  {
   "cell_type": "code",
   "execution_count": 148,
   "id": "e2460d71-ef0b-4eb9-b0e5-d675fc145977",
   "metadata": {},
   "outputs": [
    {
     "data": {
      "image/png": "[encoded data removed]",
      "text/plain": [
       "<Figure size 800x500 with 1 Axes>"
      ]
     },
     "metadata": {},
     "output_type": "display_data"
    }
   ],
   "source": [
    "df['Occupation'].value_counts().plot(kind='bar', color='orange', figsize=(8, 5))\n",
    "plt.title('Occupation Distribution')\n",
    "plt.xlabel('Occupation')\n",
    "plt.ylabel('Count')\n",
    "plt.show()\n"
   ]
  },
  {
   "cell_type": "code",
   "execution_count": 149,
   "id": "6a83d985-bffa-4d68-b901-139492f94b39",
   "metadata": {},
   "outputs": [
    {
     "data": {
      "image/png": "[encoded data removed]",
      "text/plain": [
       "<Figure size 600x200 with 1 Axes>"
      ]
     },
     "metadata": {},
     "output_type": "display_data"
    }
   ],
   "source": [
    "df['Sleep Duration'].plot(kind='box', vert=False, color='green', figsize=(6, 2))\n",
    "plt.title('Sleep Duration Boxplot')\n",
    "plt.xlabel('Hours')\n",
    "plt.show()\n"
   ]
  },
  {
   "cell_type": "code",
   "execution_count": 150,
   "id": "4f1f7f60-6d31-4f62-90ff-b08f1060c1dd",
   "metadata": {},
   "outputs": [
    {
     "data": {
      "image/png": "[encoded data removed]",
      "text/plain": [
       "<Figure size 600x400 with 1 Axes>"
      ]
     },
     "metadata": {},
     "output_type": "display_data"
    }
   ],
   "source": [
    "df['Quality of Sleep'].value_counts().sort_index().plot(kind='bar', color='teal', figsize=(6, 4))\n",
    "plt.title('Quality of Sleep Ratings')\n",
    "plt.xlabel('Rating')\n",
    "plt.ylabel('Count')\n",
    "plt.show()\n"
   ]
  },
  {
   "cell_type": "code",
   "execution_count": 151,
   "id": "11a1dd36-7598-4657-96c0-bcb77d9010e0",
   "metadata": {},
   "outputs": [
    {
     "data": {
      "image/png": "[encoded data removed]",
      "text/plain": [
       "<Figure size 600x600 with 1 Axes>"
      ]
     },
     "metadata": {},
     "output_type": "display_data"
    }
   ],
   "source": [
    "df['Physical Activity Level'].value_counts().plot(kind='pie', autopct='%1.1f%%', colors=['lightblue', 'lightgreen', 'pink'], figsize=(6, 6))\n",
    "plt.title('Physical Activity Level Distribution')\n",
    "plt.ylabel('') \n",
    "plt.show()\n"
   ]
  },
  {
   "cell_type": "code",
   "execution_count": 152,
   "id": "570048d9-2b03-40c0-86b3-d86d9b3fb504",
   "metadata": {
    "scrolled": true
   },
   "outputs": [
    {
     "data": {
      "image/png": "[encoded data removed]",
      "text/plain": [
       "<Figure size 600x400 with 1 Axes>"
      ]
     },
     "metadata": {},
     "output_type": "display_data"
    }
   ],
   "source": [
    "df['Stress Level'].value_counts().sort_index().plot(kind='bar', color='red', figsize=(6, 4))\n",
    "plt.title('Stress Level Distribution')\n",
    "plt.xlabel('Stress Level')\n",
    "plt.ylabel('Count')\n",
    "plt.show()\n"
   ]
  },
  {
   "cell_type": "code",
   "execution_count": 153,
   "id": "d4a6f14d-67cd-45b7-98dc-33026de9ffc6",
   "metadata": {},
   "outputs": [
    {
     "data": {
      "image/png": "[encoded data removed]",
      "text/plain": [
       "<Figure size 600x600 with 1 Axes>"
      ]
     },
     "metadata": {},
     "output_type": "display_data"
    }
   ],
   "source": [
    "df['BMI Category'].value_counts().plot(kind='pie', autopct='%1.1f%%', colors=['gold', 'lightcoral', 'cyan'], figsize=(6, 6))\n",
    "plt.title('BMI Category Distribution')\n",
    "plt.ylabel('')\n",
    "plt.show()\n"
   ]
  },
  {
   "cell_type": "code",
   "execution_count": 154,
   "id": "c24566fa-72c1-4b04-828a-d1d3476aeade",
   "metadata": {},
   "outputs": [
    {
     "data": {
      "image/png": "[encoded data removed]",
      "text/plain": [
       "<Figure size 800x500 with 1 Axes>"
      ]
     },
     "metadata": {},
     "output_type": "display_data"
    }
   ],
   "source": [
    "pd.crosstab(df['Blood Pressure'], df['Gender']).plot(kind='bar', stacked=True, figsize=(8, 5), color=['skyblue', 'salmon'])\n",
    "plt.title('Blood Pressure by Gender')\n",
    "plt.xlabel('Blood Pressure Category')\n",
    "plt.ylabel('Count')\n",
    "plt.show()\n"
   ]
  },
  {
   "cell_type": "code",
   "execution_count": 155,
   "id": "7261a812-4147-43be-98c2-6bd8ceb7b3f7",
   "metadata": {},
   "outputs": [
    {
     "data": {
      "image/png": "[encoded data removed]",
      "text/plain": [
       "<Figure size 600x200 with 1 Axes>"
      ]
     },
     "metadata": {},
     "output_type": "display_data"
    }
   ],
   "source": [
    "df['Heart Rate'].plot(kind='box', vert=False, color='blue', figsize=(6, 2))\n",
    "plt.title('Heart Rate Boxplot')\n",
    "plt.xlabel('BPM')\n",
    "plt.show()\n"
   ]
  },
  {
   "cell_type": "code",
   "execution_count": 156,
   "id": "72eb3372-558f-42ea-893d-f0b82910fa7a",
   "metadata": {},
   "outputs": [
    {
     "data": {
      "image/png": "[encoded data removed]",
      "text/plain": [
       "<Figure size 600x400 with 1 Axes>"
      ]
     },
     "metadata": {},
     "output_type": "display_data"
    }
   ],
   "source": [
    "df['Daily Steps'].plot(kind='hist', bins=10, color='lime', edgecolor='black', figsize=(6, 4))\n",
    "plt.title('Daily Steps Distribution')\n",
    "plt.xlabel('Steps')\n",
    "plt.ylabel('Frequency')\n",
    "plt.show()\n"
   ]
  },
  {
   "cell_type": "code",
   "execution_count": 157,
   "id": "eb670b84-868b-4a19-9b67-e0593a157fe1",
   "metadata": {},
   "outputs": [
    {
     "data": {
      "image/png": "[encoded data removed]",
      "text/plain": [
       "<Figure size 600x400 with 1 Axes>"
      ]
     },
     "metadata": {},
     "output_type": "display_data"
    }
   ],
   "source": [
    "df['Sleep Disorder'].value_counts().plot(kind='bar', color='violet', figsize=(6, 4))\n",
    "plt.title('Sleep Disorder Distribution')\n",
    "plt.xlabel('Category')\n",
    "plt.ylabel('Count')\n",
    "plt.show()\n"
   ]
  },
  {
   "cell_type": "code",
   "execution_count": 158,
   "id": "c87ab9b2-9085-4558-9391-5d9f94c34da1",
   "metadata": {},
   "outputs": [
    {
     "name": "stdout",
     "output_type": "stream",
     "text": [
      "['Gender', 'Occupation', 'BMI Category', 'Blood Pressure', 'Sleep Disorder']\n",
      "['Age', 'Sleep Duration', 'Quality of Sleep', 'Physical Activity Level', 'Stress Level', 'Heart Rate', 'Daily Steps']\n"
     ]
    },
    {
     "data": {
      "text/plain": [
       "(None, None)"
      ]
     },
     "execution_count": 158,
     "metadata": {},
     "output_type": "execute_result"
    }
   ],
   "source": [
    "object_cols=[]\n",
    "numerical_cols=[]\n",
    "for i in df.columns:\n",
    "    if df[i].dtype=='object':\n",
    "        object_cols.append(i)\n",
    "    else:\n",
    "        numerical_cols.append(i)\n",
    "print(object_cols),print(numerical_cols)"
   ]
  },
  {
   "cell_type": "code",
   "execution_count": 159,
   "id": "9375d984-6ab7-4968-b4ae-579da5f6079b",
   "metadata": {},
   "outputs": [],
   "source": [
    "from sklearn.preprocessing import LabelEncoder\n",
    "from sklearn.preprocessing import StandardScaler"
   ]
  },
  {
   "cell_type": "code",
   "execution_count": 160,
   "id": "556fcd45-6543-405e-9b28-516fdc8e3f81",
   "metadata": {},
   "outputs": [
    {
     "data": {
      "text/html": [
       "<div>\n",
       "<style scoped>\n",
       "    .dataframe tbody tr th:only-of-type {\n",
       "        vertical-align: middle;\n",
       "    }\n",
       "\n",
       "    .dataframe tbody tr th {\n",
       "        vertical-align: top;\n",
       "    }\n",
       "\n",
       "    .dataframe thead th {\n",
       "        text-align: right;\n",
       "    }\n",
       "</style>\n",
       "<table border=\"1\" class=\"dataframe\">\n",
       "  <thead>\n",
       "    <tr style=\"text-align: right;\">\n",
       "      <th></th>\n",
       "      <th>Gender</th>\n",
       "      <th>Age</th>\n",
       "      <th>Occupation</th>\n",
       "      <th>Sleep Duration</th>\n",
       "      <th>Quality of Sleep</th>\n",
       "      <th>Physical Activity Level</th>\n",
       "      <th>Stress Level</th>\n",
       "      <th>BMI Category</th>\n",
       "      <th>Blood Pressure</th>\n",
       "      <th>Heart Rate</th>\n",
       "      <th>Daily Steps</th>\n",
       "      <th>Sleep Disorder</th>\n",
       "    </tr>\n",
       "  </thead>\n",
       "  <tbody>\n",
       "    <tr>\n",
       "      <th>0</th>\n",
       "      <td>1</td>\n",
       "      <td>27</td>\n",
       "      <td>9</td>\n",
       "      <td>6.1</td>\n",
       "      <td>6</td>\n",
       "      <td>42</td>\n",
       "      <td>6</td>\n",
       "      <td>3</td>\n",
       "      <td>11</td>\n",
       "      <td>77</td>\n",
       "      <td>4200</td>\n",
       "      <td>1</td>\n",
       "    </tr>\n",
       "    <tr>\n",
       "      <th>1</th>\n",
       "      <td>1</td>\n",
       "      <td>28</td>\n",
       "      <td>1</td>\n",
       "      <td>6.2</td>\n",
       "      <td>6</td>\n",
       "      <td>60</td>\n",
       "      <td>8</td>\n",
       "      <td>0</td>\n",
       "      <td>9</td>\n",
       "      <td>75</td>\n",
       "      <td>10000</td>\n",
       "      <td>1</td>\n",
       "    </tr>\n",
       "    <tr>\n",
       "      <th>2</th>\n",
       "      <td>1</td>\n",
       "      <td>28</td>\n",
       "      <td>1</td>\n",
       "      <td>6.2</td>\n",
       "      <td>6</td>\n",
       "      <td>60</td>\n",
       "      <td>8</td>\n",
       "      <td>0</td>\n",
       "      <td>9</td>\n",
       "      <td>75</td>\n",
       "      <td>10000</td>\n",
       "      <td>1</td>\n",
       "    </tr>\n",
       "    <tr>\n",
       "      <th>3</th>\n",
       "      <td>1</td>\n",
       "      <td>28</td>\n",
       "      <td>6</td>\n",
       "      <td>5.9</td>\n",
       "      <td>4</td>\n",
       "      <td>30</td>\n",
       "      <td>8</td>\n",
       "      <td>2</td>\n",
       "      <td>22</td>\n",
       "      <td>85</td>\n",
       "      <td>3000</td>\n",
       "      <td>2</td>\n",
       "    </tr>\n",
       "    <tr>\n",
       "      <th>4</th>\n",
       "      <td>1</td>\n",
       "      <td>28</td>\n",
       "      <td>6</td>\n",
       "      <td>5.9</td>\n",
       "      <td>4</td>\n",
       "      <td>30</td>\n",
       "      <td>8</td>\n",
       "      <td>2</td>\n",
       "      <td>22</td>\n",
       "      <td>85</td>\n",
       "      <td>3000</td>\n",
       "      <td>2</td>\n",
       "    </tr>\n",
       "    <tr>\n",
       "      <th>...</th>\n",
       "      <td>...</td>\n",
       "      <td>...</td>\n",
       "      <td>...</td>\n",
       "      <td>...</td>\n",
       "      <td>...</td>\n",
       "      <td>...</td>\n",
       "      <td>...</td>\n",
       "      <td>...</td>\n",
       "      <td>...</td>\n",
       "      <td>...</td>\n",
       "      <td>...</td>\n",
       "      <td>...</td>\n",
       "    </tr>\n",
       "    <tr>\n",
       "      <th>369</th>\n",
       "      <td>0</td>\n",
       "      <td>59</td>\n",
       "      <td>5</td>\n",
       "      <td>8.1</td>\n",
       "      <td>9</td>\n",
       "      <td>75</td>\n",
       "      <td>3</td>\n",
       "      <td>3</td>\n",
       "      <td>23</td>\n",
       "      <td>68</td>\n",
       "      <td>7000</td>\n",
       "      <td>2</td>\n",
       "    </tr>\n",
       "    <tr>\n",
       "      <th>370</th>\n",
       "      <td>0</td>\n",
       "      <td>59</td>\n",
       "      <td>5</td>\n",
       "      <td>8.0</td>\n",
       "      <td>9</td>\n",
       "      <td>75</td>\n",
       "      <td>3</td>\n",
       "      <td>3</td>\n",
       "      <td>23</td>\n",
       "      <td>68</td>\n",
       "      <td>7000</td>\n",
       "      <td>2</td>\n",
       "    </tr>\n",
       "    <tr>\n",
       "      <th>371</th>\n",
       "      <td>0</td>\n",
       "      <td>59</td>\n",
       "      <td>5</td>\n",
       "      <td>8.1</td>\n",
       "      <td>9</td>\n",
       "      <td>75</td>\n",
       "      <td>3</td>\n",
       "      <td>3</td>\n",
       "      <td>23</td>\n",
       "      <td>68</td>\n",
       "      <td>7000</td>\n",
       "      <td>2</td>\n",
       "    </tr>\n",
       "    <tr>\n",
       "      <th>372</th>\n",
       "      <td>0</td>\n",
       "      <td>59</td>\n",
       "      <td>5</td>\n",
       "      <td>8.1</td>\n",
       "      <td>9</td>\n",
       "      <td>75</td>\n",
       "      <td>3</td>\n",
       "      <td>3</td>\n",
       "      <td>23</td>\n",
       "      <td>68</td>\n",
       "      <td>7000</td>\n",
       "      <td>2</td>\n",
       "    </tr>\n",
       "    <tr>\n",
       "      <th>373</th>\n",
       "      <td>0</td>\n",
       "      <td>59</td>\n",
       "      <td>5</td>\n",
       "      <td>8.1</td>\n",
       "      <td>9</td>\n",
       "      <td>75</td>\n",
       "      <td>3</td>\n",
       "      <td>3</td>\n",
       "      <td>23</td>\n",
       "      <td>68</td>\n",
       "      <td>7000</td>\n",
       "      <td>2</td>\n",
       "    </tr>\n",
       "  </tbody>\n",
       "</table>\n",
       "<p>374 rows × 12 columns</p>\n",
       "</div>"
      ],
      "text/plain": [
       "     Gender  Age  Occupation  Sleep Duration  Quality of Sleep  \\\n",
       "0         1   27           9             6.1                 6   \n",
       "1         1   28           1             6.2                 6   \n",
       "2         1   28           1             6.2                 6   \n",
       "3         1   28           6             5.9                 4   \n",
       "4         1   28           6             5.9                 4   \n",
       "..      ...  ...         ...             ...               ...   \n",
       "369       0   59           5             8.1                 9   \n",
       "370       0   59           5             8.0                 9   \n",
       "371       0   59           5             8.1                 9   \n",
       "372       0   59           5             8.1                 9   \n",
       "373       0   59           5             8.1                 9   \n",
       "\n",
       "     Physical Activity Level  Stress Level  BMI Category  Blood Pressure  \\\n",
       "0                         42             6             3              11   \n",
       "1                         60             8             0               9   \n",
       "2                         60             8             0               9   \n",
       "3                         30             8             2              22   \n",
       "4                         30             8             2              22   \n",
       "..                       ...           ...           ...             ...   \n",
       "369                       75             3             3              23   \n",
       "370                       75             3             3              23   \n",
       "371                       75             3             3              23   \n",
       "372                       75             3             3              23   \n",
       "373                       75             3             3              23   \n",
       "\n",
       "     Heart Rate  Daily Steps  Sleep Disorder  \n",
       "0            77         4200               1  \n",
       "1            75        10000               1  \n",
       "2            75        10000               1  \n",
       "3            85         3000               2  \n",
       "4            85         3000               2  \n",
       "..          ...          ...             ...  \n",
       "369          68         7000               2  \n",
       "370          68         7000               2  \n",
       "371          68         7000               2  \n",
       "372          68         7000               2  \n",
       "373          68         7000               2  \n",
       "\n",
       "[374 rows x 12 columns]"
      ]
     },
     "execution_count": 160,
     "metadata": {},
     "output_type": "execute_result"
    }
   ],
   "source": [
    "le=LabelEncoder()\n",
    "for i in object_cols:\n",
    "    df[i]=le.fit_transform(df[i])\n",
    "df"
   ]
  },
  {
   "cell_type": "code",
   "execution_count": 161,
   "id": "7cf31c56-9897-473a-bc16-201f3768a1f2",
   "metadata": {},
   "outputs": [
    {
     "data": {
      "text/plain": [
       "Sleep Disorder\n",
       "1    219\n",
       "2     78\n",
       "0     77\n",
       "Name: count, dtype: int64"
      ]
     },
     "execution_count": 161,
     "metadata": {},
     "output_type": "execute_result"
    }
   ],
   "source": [
    "df['Sleep Disorder'].value_counts()"
   ]
  },
  {
   "cell_type": "code",
   "execution_count": 162,
   "id": "f09e1453-a37e-47fe-9d20-a182e990b91d",
   "metadata": {},
   "outputs": [],
   "source": [
    "# None - 1\n",
    "# Sleep Apnea - 2 \n",
    "# Insomnia - 0"
   ]
  },
  {
   "cell_type": "code",
   "execution_count": 163,
   "id": "50b9780d-2796-4036-855f-3c5ca7da99fa",
   "metadata": {},
   "outputs": [],
   "source": [
    "from imblearn.over_sampling import SMOTE"
   ]
  },
  {
   "cell_type": "code",
   "execution_count": 164,
   "id": "76f96a24-2f64-4194-850c-dd1fdce21d4c",
   "metadata": {},
   "outputs": [],
   "source": [
    "df_1_2= df[(df['Sleep Disorder'] == 1) | (df['Sleep Disorder'] == 2)]\n",
    "df_0=df[df['Sleep Disorder']==0]"
   ]
  },
  {
   "cell_type": "code",
   "execution_count": 165,
   "id": "a0ba9e66-23aa-4680-a2fb-4d328c7be8a1",
   "metadata": {},
   "outputs": [],
   "source": [
    "smt=SMOTE(sampling_strategy='minority')\n",
    "\n",
    "def smote(df,smt):\n",
    "    X=df.drop(\"Sleep Disorder\",axis=1)\n",
    "    Y=df['Sleep Disorder']\n",
    "    x_sm,y_sm=smt.fit_resample(X,Y)\n",
    "    smote_df = pd.DataFrame(x_sm, columns=X.columns)  \n",
    "    smote_df['Sleep Disorder'] = y_sm\n",
    "    return smote_df"
   ]
  },
  {
   "cell_type": "code",
   "execution_count": 166,
   "id": "b9062924-19a0-4568-b36a-34b3fc1284d7",
   "metadata": {},
   "outputs": [],
   "source": [
    "smote_df=smote(df_1_2,smt)"
   ]
  },
  {
   "cell_type": "code",
   "execution_count": 167,
   "id": "7d846765-d786-46a1-9d80-96449d06cc81",
   "metadata": {},
   "outputs": [
    {
     "data": {
      "text/plain": [
       "Sleep Disorder\n",
       "1    219\n",
       "2    219\n",
       "Name: count, dtype: int64"
      ]
     },
     "execution_count": 167,
     "metadata": {},
     "output_type": "execute_result"
    }
   ],
   "source": [
    "smote_df['Sleep Disorder'].value_counts()"
   ]
  },
  {
   "cell_type": "code",
   "execution_count": 168,
   "id": "f6f60ba9-900b-46e5-aa0e-14d80a196462",
   "metadata": {},
   "outputs": [],
   "source": [
    "# smote_df=pd.concat([smote_df,df_0])"
   ]
  },
  {
   "cell_type": "code",
   "execution_count": 169,
   "id": "d26c6f06-df0b-4d45-be56-26a0894a8939",
   "metadata": {},
   "outputs": [],
   "source": [
    "# smote_df['Sleep Disorder'].value_counts()"
   ]
  },
  {
   "cell_type": "code",
   "execution_count": 170,
   "id": "b7409f83-9dd7-4b41-a239-0d2c43a4640f",
   "metadata": {},
   "outputs": [],
   "source": [
    "df_1_0=df[(df['Sleep Disorder']==1) | (df['Sleep Disorder']==0)]"
   ]
  },
  {
   "cell_type": "code",
   "execution_count": 171,
   "id": "e61c1235-a1a3-45f4-a822-71bd6347d8a8",
   "metadata": {},
   "outputs": [],
   "source": [
    "smote_df_2=smote(df_1_0,smt)"
   ]
  },
  {
   "cell_type": "code",
   "execution_count": 172,
   "id": "de205773-0d1e-44cc-b5ce-ee90c39229a7",
   "metadata": {},
   "outputs": [
    {
     "data": {
      "text/plain": [
       "Sleep Disorder\n",
       "1    219\n",
       "0    219\n",
       "Name: count, dtype: int64"
      ]
     },
     "execution_count": 172,
     "metadata": {},
     "output_type": "execute_result"
    }
   ],
   "source": [
    "smote_df_2['Sleep Disorder'].value_counts()"
   ]
  },
  {
   "cell_type": "code",
   "execution_count": 173,
   "id": "247cfd5f-d4aa-44c4-bd20-a656418b8c55",
   "metadata": {},
   "outputs": [],
   "source": [
    "df_0=smote_df_2[smote_df_2['Sleep Disorder']==0]\n",
    "df=pd.concat([smote_df,df_0])"
   ]
  },
  {
   "cell_type": "code",
   "execution_count": 174,
   "id": "7da02838-f2e1-4dc8-9f19-f6739c9e6d36",
   "metadata": {},
   "outputs": [
    {
     "data": {
      "text/plain": [
       "Sleep Disorder\n",
       "1    219\n",
       "2    219\n",
       "0    219\n",
       "Name: count, dtype: int64"
      ]
     },
     "execution_count": 174,
     "metadata": {},
     "output_type": "execute_result"
    }
   ],
   "source": [
    "df['Sleep Disorder'].value_counts()"
   ]
  },
  {
   "cell_type": "code",
   "execution_count": 175,
   "id": "09c779d2-4112-4ee9-b178-6b5423cc5241",
   "metadata": {},
   "outputs": [],
   "source": [
    "sc=StandardScaler()\n",
    "df[numerical_cols]=sc.fit_transform(df[numerical_cols])"
   ]
  },
  {
   "cell_type": "code",
   "execution_count": 176,
   "id": "e920ea48-3366-47d9-a707-85cd0ae074e1",
   "metadata": {},
   "outputs": [
    {
     "data": {
      "text/html": [
       "<div>\n",
       "<style scoped>\n",
       "    .dataframe tbody tr th:only-of-type {\n",
       "        vertical-align: middle;\n",
       "    }\n",
       "\n",
       "    .dataframe tbody tr th {\n",
       "        vertical-align: top;\n",
       "    }\n",
       "\n",
       "    .dataframe thead th {\n",
       "        text-align: right;\n",
       "    }\n",
       "</style>\n",
       "<table border=\"1\" class=\"dataframe\">\n",
       "  <thead>\n",
       "    <tr style=\"text-align: right;\">\n",
       "      <th></th>\n",
       "      <th>Gender</th>\n",
       "      <th>Age</th>\n",
       "      <th>Occupation</th>\n",
       "      <th>Sleep Duration</th>\n",
       "      <th>Quality of Sleep</th>\n",
       "      <th>Physical Activity Level</th>\n",
       "      <th>Stress Level</th>\n",
       "      <th>BMI Category</th>\n",
       "      <th>Blood Pressure</th>\n",
       "      <th>Heart Rate</th>\n",
       "      <th>Daily Steps</th>\n",
       "      <th>Sleep Disorder</th>\n",
       "    </tr>\n",
       "  </thead>\n",
       "  <tbody>\n",
       "    <tr>\n",
       "      <th>0</th>\n",
       "      <td>1</td>\n",
       "      <td>-2.040381</td>\n",
       "      <td>9</td>\n",
       "      <td>-1.141698</td>\n",
       "      <td>-0.892261</td>\n",
       "      <td>-0.888319</td>\n",
       "      <td>0.308206</td>\n",
       "      <td>3</td>\n",
       "      <td>11</td>\n",
       "      <td>1.372853</td>\n",
       "      <td>-1.507032</td>\n",
       "      <td>1</td>\n",
       "    </tr>\n",
       "    <tr>\n",
       "      <th>1</th>\n",
       "      <td>1</td>\n",
       "      <td>-1.921855</td>\n",
       "      <td>1</td>\n",
       "      <td>-1.015266</td>\n",
       "      <td>-0.892261</td>\n",
       "      <td>-0.009071</td>\n",
       "      <td>1.396869</td>\n",
       "      <td>0</td>\n",
       "      <td>9</td>\n",
       "      <td>0.939737</td>\n",
       "      <td>1.843159</td>\n",
       "      <td>1</td>\n",
       "    </tr>\n",
       "    <tr>\n",
       "      <th>2</th>\n",
       "      <td>1</td>\n",
       "      <td>-1.921855</td>\n",
       "      <td>1</td>\n",
       "      <td>-1.015266</td>\n",
       "      <td>-0.892261</td>\n",
       "      <td>-0.009071</td>\n",
       "      <td>1.396869</td>\n",
       "      <td>0</td>\n",
       "      <td>9</td>\n",
       "      <td>0.939737</td>\n",
       "      <td>1.843159</td>\n",
       "      <td>1</td>\n",
       "    </tr>\n",
       "    <tr>\n",
       "      <th>3</th>\n",
       "      <td>1</td>\n",
       "      <td>-1.921855</td>\n",
       "      <td>6</td>\n",
       "      <td>-1.394561</td>\n",
       "      <td>-2.491758</td>\n",
       "      <td>-1.474485</td>\n",
       "      <td>1.396869</td>\n",
       "      <td>2</td>\n",
       "      <td>22</td>\n",
       "      <td>3.105317</td>\n",
       "      <td>-2.200175</td>\n",
       "      <td>2</td>\n",
       "    </tr>\n",
       "    <tr>\n",
       "      <th>4</th>\n",
       "      <td>1</td>\n",
       "      <td>-1.921855</td>\n",
       "      <td>6</td>\n",
       "      <td>-1.394561</td>\n",
       "      <td>-2.491758</td>\n",
       "      <td>-1.474485</td>\n",
       "      <td>1.396869</td>\n",
       "      <td>2</td>\n",
       "      <td>22</td>\n",
       "      <td>3.105317</td>\n",
       "      <td>-2.200175</td>\n",
       "      <td>2</td>\n",
       "    </tr>\n",
       "    <tr>\n",
       "      <th>...</th>\n",
       "      <td>...</td>\n",
       "      <td>...</td>\n",
       "      <td>...</td>\n",
       "      <td>...</td>\n",
       "      <td>...</td>\n",
       "      <td>...</td>\n",
       "      <td>...</td>\n",
       "      <td>...</td>\n",
       "      <td>...</td>\n",
       "      <td>...</td>\n",
       "      <td>...</td>\n",
       "      <td>...</td>\n",
       "    </tr>\n",
       "    <tr>\n",
       "      <th>433</th>\n",
       "      <td>0</td>\n",
       "      <td>0.922772</td>\n",
       "      <td>0</td>\n",
       "      <td>-0.509539</td>\n",
       "      <td>-0.092513</td>\n",
       "      <td>-0.741778</td>\n",
       "      <td>0.852538</td>\n",
       "      <td>3</td>\n",
       "      <td>15</td>\n",
       "      <td>0.290063</td>\n",
       "      <td>-0.467318</td>\n",
       "      <td>0</td>\n",
       "    </tr>\n",
       "    <tr>\n",
       "      <th>434</th>\n",
       "      <td>1</td>\n",
       "      <td>-1.092172</td>\n",
       "      <td>9</td>\n",
       "      <td>-0.572755</td>\n",
       "      <td>-1.692010</td>\n",
       "      <td>-1.279096</td>\n",
       "      <td>0.852538</td>\n",
       "      <td>2</td>\n",
       "      <td>13</td>\n",
       "      <td>0.506621</td>\n",
       "      <td>-1.151219</td>\n",
       "      <td>0</td>\n",
       "    </tr>\n",
       "    <tr>\n",
       "      <th>435</th>\n",
       "      <td>0</td>\n",
       "      <td>0.093089</td>\n",
       "      <td>10</td>\n",
       "      <td>-0.635971</td>\n",
       "      <td>-0.092513</td>\n",
       "      <td>-0.741778</td>\n",
       "      <td>-0.780457</td>\n",
       "      <td>3</td>\n",
       "      <td>20</td>\n",
       "      <td>-1.225844</td>\n",
       "      <td>-0.467318</td>\n",
       "      <td>0</td>\n",
       "    </tr>\n",
       "    <tr>\n",
       "      <th>436</th>\n",
       "      <td>0</td>\n",
       "      <td>-0.025437</td>\n",
       "      <td>10</td>\n",
       "      <td>-0.509539</td>\n",
       "      <td>-0.092513</td>\n",
       "      <td>-0.741778</td>\n",
       "      <td>-0.780457</td>\n",
       "      <td>3</td>\n",
       "      <td>20</td>\n",
       "      <td>-1.225844</td>\n",
       "      <td>-0.467318</td>\n",
       "      <td>0</td>\n",
       "    </tr>\n",
       "    <tr>\n",
       "      <th>437</th>\n",
       "      <td>0</td>\n",
       "      <td>-0.025437</td>\n",
       "      <td>10</td>\n",
       "      <td>-0.509539</td>\n",
       "      <td>-0.092513</td>\n",
       "      <td>-0.741778</td>\n",
       "      <td>-0.780457</td>\n",
       "      <td>3</td>\n",
       "      <td>20</td>\n",
       "      <td>-1.225844</td>\n",
       "      <td>-0.467318</td>\n",
       "      <td>0</td>\n",
       "    </tr>\n",
       "  </tbody>\n",
       "</table>\n",
       "<p>657 rows × 12 columns</p>\n",
       "</div>"
      ],
      "text/plain": [
       "     Gender       Age  Occupation  Sleep Duration  Quality of Sleep  \\\n",
       "0         1 -2.040381           9       -1.141698         -0.892261   \n",
       "1         1 -1.921855           1       -1.015266         -0.892261   \n",
       "2         1 -1.921855           1       -1.015266         -0.892261   \n",
       "3         1 -1.921855           6       -1.394561         -2.491758   \n",
       "4         1 -1.921855           6       -1.394561         -2.491758   \n",
       "..      ...       ...         ...             ...               ...   \n",
       "433       0  0.922772           0       -0.509539         -0.092513   \n",
       "434       1 -1.092172           9       -0.572755         -1.692010   \n",
       "435       0  0.093089          10       -0.635971         -0.092513   \n",
       "436       0 -0.025437          10       -0.509539         -0.092513   \n",
       "437       0 -0.025437          10       -0.509539         -0.092513   \n",
       "\n",
       "     Physical Activity Level  Stress Level  BMI Category  Blood Pressure  \\\n",
       "0                  -0.888319      0.308206             3              11   \n",
       "1                  -0.009071      1.396869             0               9   \n",
       "2                  -0.009071      1.396869             0               9   \n",
       "3                  -1.474485      1.396869             2              22   \n",
       "4                  -1.474485      1.396869             2              22   \n",
       "..                       ...           ...           ...             ...   \n",
       "433                -0.741778      0.852538             3              15   \n",
       "434                -1.279096      0.852538             2              13   \n",
       "435                -0.741778     -0.780457             3              20   \n",
       "436                -0.741778     -0.780457             3              20   \n",
       "437                -0.741778     -0.780457             3              20   \n",
       "\n",
       "     Heart Rate  Daily Steps  Sleep Disorder  \n",
       "0      1.372853    -1.507032               1  \n",
       "1      0.939737     1.843159               1  \n",
       "2      0.939737     1.843159               1  \n",
       "3      3.105317    -2.200175               2  \n",
       "4      3.105317    -2.200175               2  \n",
       "..          ...          ...             ...  \n",
       "433    0.290063    -0.467318               0  \n",
       "434    0.506621    -1.151219               0  \n",
       "435   -1.225844    -0.467318               0  \n",
       "436   -1.225844    -0.467318               0  \n",
       "437   -1.225844    -0.467318               0  \n",
       "\n",
       "[657 rows x 12 columns]"
      ]
     },
     "execution_count": 176,
     "metadata": {},
     "output_type": "execute_result"
    }
   ],
   "source": [
    "df"
   ]
  },
  {
   "cell_type": "code",
   "execution_count": 177,
   "id": "edb9f640-0940-4be3-b30d-c492336ca769",
   "metadata": {},
   "outputs": [
    {
     "name": "stdout",
     "output_type": "stream",
     "text": [
      "0 = Gender\n",
      "1 = Age\n",
      "2 = Occupation\n",
      "3 = Sleep Duration\n",
      "4 = Quality of Sleep\n",
      "5 = Physical Activity Level\n",
      "6 = Stress Level\n",
      "7 = BMI Category\n",
      "8 = Blood Pressure\n",
      "9 = Heart Rate\n",
      "10 = Daily Steps\n"
     ]
    },
    {
     "data": {
      "text/plain": [
       "array([ 0,  1,  2,  5,  7,  8, 10], dtype=int64)"
      ]
     },
     "execution_count": 177,
     "metadata": {},
     "output_type": "execute_result"
    }
   ],
   "source": [
    "from sklearn.feature_selection import SelectKBest, f_classif, chi2\n",
    "from sklearn.feature_selection import chi2\n",
    "\n",
    "def FS_KBest(df):\n",
    "    col_list = []\n",
    "    for col in df.columns:\n",
    "        if ((df[col].dtype != 'object') & (col != 'Sleep Disorder')):\n",
    "            col_list.append(col)\n",
    "        \n",
    "    xx = df[col_list]\n",
    "    yy = df['Sleep Disorder']\n",
    "    fs = SelectKBest(score_func=f_classif, k=7)\n",
    "    \n",
    "    X_selected = fs.fit_transform(xx, yy)\n",
    "\n",
    "    l = list(xx.columns)\n",
    "    for i in range(0, len(l)):\n",
    "        print(f\"{i} = {l[i]}\")\n",
    "        \n",
    "    return fs.get_support(True)\n",
    "\n",
    "FS_KBest(df)"
   ]
  },
  {
   "cell_type": "code",
   "execution_count": 178,
   "id": "7d6facd7-3965-46b5-afa0-f7d7956df494",
   "metadata": {},
   "outputs": [],
   "source": [
    "from sklearn.model_selection import train_test_split\n",
    "from sklearn.model_selection import train_test_split\n",
    "from sklearn.ensemble import RandomForestClassifier\n",
    "from sklearn.tree import DecisionTreeClassifier\n",
    "from sklearn.linear_model import LogisticRegression\n",
    "from sklearn.svm import SVC\n",
    "from sklearn.neighbors import KNeighborsClassifier\n",
    "from sklearn.naive_bayes import GaussianNB\n",
    "from sklearn.metrics import *\n",
    "import time"
   ]
  },
  {
   "cell_type": "code",
   "execution_count": 179,
   "id": "9d72cba9-89de-4bcd-b1a4-8846f6c7157a",
   "metadata": {},
   "outputs": [],
   "source": [
    "X=df.drop(columns=['Sleep Disorder'])\n",
    "Y=df['Sleep Disorder']"
   ]
  },
  {
   "cell_type": "code",
   "execution_count": 180,
   "id": "792b4734-0a55-4285-98b6-e8d770105e8d",
   "metadata": {},
   "outputs": [],
   "source": [
    "x_train,x_test,y_train,y_test=train_test_split(X,Y,test_size=0.3,stratify=Y,random_state=26)"
   ]
  },
  {
   "cell_type": "code",
   "execution_count": 181,
   "id": "5cb864a8-a294-4e4c-8e2b-4fb95e4efe20",
   "metadata": {},
   "outputs": [
    {
     "data": {
      "text/plain": [
       "(459, 198)"
      ]
     },
     "execution_count": 181,
     "metadata": {},
     "output_type": "execute_result"
    }
   ],
   "source": [
    "len(x_train),len(x_test)"
   ]
  },
  {
   "cell_type": "code",
   "execution_count": 182,
   "id": "ee2315b5-ba9a-49ae-9540-09d9530b76a1",
   "metadata": {},
   "outputs": [
    {
     "name": "stdout",
     "output_type": "stream",
     "text": [
      "Accuracy of Logistic Regression: 0.9343434343434344\n",
      "              precision    recall  f1-score   support\n",
      "\n",
      "           0       0.92      0.95      0.94        64\n",
      "           1       0.95      0.90      0.93        70\n",
      "           2       0.92      0.95      0.94        64\n",
      "\n",
      "    accuracy                           0.93       198\n",
      "   macro avg       0.93      0.94      0.93       198\n",
      "weighted avg       0.93      0.93      0.93       198\n",
      "\n"
     ]
    },
    {
     "name": "stderr",
     "output_type": "stream",
     "text": [
      "C:\\Users\\CHAKRI PRIYA\\anaconda3\\Lib\\site-packages\\sklearn\\linear_model\\_logistic.py:469: ConvergenceWarning: lbfgs failed to converge (status=1):\n",
      "STOP: TOTAL NO. of ITERATIONS REACHED LIMIT.\n",
      "\n",
      "Increase the number of iterations (max_iter) or scale the data as shown in:\n",
      "    https://scikit-learn.org/stable/modules/preprocessing.html\n",
      "Please also refer to the documentation for alternative solver options:\n",
      "    https://scikit-learn.org/stable/modules/linear_model.html#logistic-regression\n",
      "  n_iter_i = _check_optimize_result(\n"
     ]
    }
   ],
   "source": [
    "lr1=LogisticRegression()\n",
    "start_time=time.time()\n",
    "lr1.fit(x_train,y_train)\n",
    "end_time=time.time()\n",
    "lrt=end_time-start_time\n",
    "lr1_pred=lr1.predict(x_test)\n",
    "print(\"Accuracy of Logistic Regression:\",accuracy_score(lr1_pred,y_test))\n",
    "print(classification_report(lr1_pred,y_test))"
   ]
  },
  {
   "cell_type": "code",
   "execution_count": 183,
   "id": "2571823c-eb08-4075-892b-b12a24e7d939",
   "metadata": {},
   "outputs": [
    {
     "name": "stdout",
     "output_type": "stream",
     "text": [
      "Accuracy of Decision Tree: 0.9141414141414141\n",
      "              precision    recall  f1-score   support\n",
      "\n",
      "           0       0.92      0.94      0.93        65\n",
      "           1       0.95      0.89      0.92        71\n",
      "           2       0.86      0.92      0.89        62\n",
      "\n",
      "    accuracy                           0.91       198\n",
      "   macro avg       0.91      0.92      0.91       198\n",
      "weighted avg       0.92      0.91      0.91       198\n",
      "\n"
     ]
    }
   ],
   "source": [
    "dt1=DecisionTreeClassifier()\n",
    "start_time=time.time()\n",
    "dt1.fit(x_train,y_train)\n",
    "end_time=time.time()\n",
    "dtt=end_time-start_time\n",
    "dt1_pred=dt1.predict(x_test)\n",
    "print(\"Accuracy of Decision Tree:\",accuracy_score(dt1_pred,y_test))\n",
    "print(classification_report(dt1_pred,y_test))"
   ]
  },
  {
   "cell_type": "code",
   "execution_count": 184,
   "id": "7d0c3955-b0d9-45f9-bec8-d10cb40ef037",
   "metadata": {},
   "outputs": [
    {
     "name": "stdout",
     "output_type": "stream",
     "text": [
      "Accuracy of Random Forest: 0.9292929292929293\n",
      "              precision    recall  f1-score   support\n",
      "\n",
      "           0       0.92      0.95      0.94        64\n",
      "           1       0.94      0.93      0.93        67\n",
      "           2       0.92      0.91      0.92        67\n",
      "\n",
      "    accuracy                           0.93       198\n",
      "   macro avg       0.93      0.93      0.93       198\n",
      "weighted avg       0.93      0.93      0.93       198\n",
      "\n"
     ]
    }
   ],
   "source": [
    "rf1=RandomForestClassifier(n_estimators=500)\n",
    "start_time=time.time()\n",
    "rf1.fit(x_train,y_train)\n",
    "end_time=time.time()\n",
    "rft=end_time-start_time\n",
    "rf1_pred=rf1.predict(x_test)\n",
    "print(\"Accuracy of Random Forest:\",accuracy_score(rf1_pred,y_test))\n",
    "print(classification_report(rf1_pred,y_test))"
   ]
  },
  {
   "cell_type": "code",
   "execution_count": 185,
   "id": "3fa7c950-eca4-48c0-a8d4-72e15dfbf98c",
   "metadata": {},
   "outputs": [
    {
     "name": "stdout",
     "output_type": "stream",
     "text": [
      "Accuracy of KNN: 0.9191919191919192\n",
      "              precision    recall  f1-score   support\n",
      "\n",
      "           0       0.92      0.92      0.92        66\n",
      "           1       0.91      0.90      0.90        67\n",
      "           2       0.92      0.94      0.93        65\n",
      "\n",
      "    accuracy                           0.92       198\n",
      "   macro avg       0.92      0.92      0.92       198\n",
      "weighted avg       0.92      0.92      0.92       198\n",
      "\n"
     ]
    }
   ],
   "source": [
    "KNN1=KNeighborsClassifier()\n",
    "start_time=time.time()\n",
    "KNN1.fit(x_train,y_train)\n",
    "end_time=time.time()\n",
    "KNNt=end_time-start_time\n",
    "KNN1_pred=KNN1.predict(x_test)\n",
    "print(\"Accuracy of KNN:\",accuracy_score(KNN1_pred,y_test))\n",
    "print(classification_report(KNN1_pred,y_test))"
   ]
  },
  {
   "cell_type": "code",
   "execution_count": 186,
   "id": "6ce9566b-2eab-440f-a190-47f48a66c9da",
   "metadata": {},
   "outputs": [
    {
     "name": "stdout",
     "output_type": "stream",
     "text": [
      "Accuracy of GNB: 0.898989898989899\n",
      "              precision    recall  f1-score   support\n",
      "\n",
      "           0       0.92      0.88      0.90        69\n",
      "           1       0.89      0.87      0.88        68\n",
      "           2       0.88      0.95      0.91        61\n",
      "\n",
      "    accuracy                           0.90       198\n",
      "   macro avg       0.90      0.90      0.90       198\n",
      "weighted avg       0.90      0.90      0.90       198\n",
      "\n"
     ]
    }
   ],
   "source": [
    "GNB1=GaussianNB()\n",
    "start_time=time.time()\n",
    "GNB1.fit(x_train,y_train)\n",
    "end_time=time.time()\n",
    "GNBt=end_time-start_time\n",
    "GNB1_pred=GNB1.predict(x_test)\n",
    "print(\"Accuracy of GNB:\",accuracy_score(GNB1_pred,y_test))\n",
    "print(classification_report(GNB1_pred,y_test))"
   ]
  },
  {
   "cell_type": "code",
   "execution_count": 187,
   "id": "fa077d5d-982a-414f-a0d7-d412dad4c4e4",
   "metadata": {},
   "outputs": [
    {
     "name": "stdout",
     "output_type": "stream",
     "text": [
      "Accuracy of SVM: 0.8939393939393939\n",
      "              precision    recall  f1-score   support\n",
      "\n",
      "           0       0.88      0.91      0.89        64\n",
      "           1       0.92      0.87      0.90        70\n",
      "           2       0.88      0.91      0.89        64\n",
      "\n",
      "    accuracy                           0.89       198\n",
      "   macro avg       0.89      0.89      0.89       198\n",
      "weighted avg       0.89      0.89      0.89       198\n",
      "\n"
     ]
    }
   ],
   "source": [
    "svm1=SVC()\n",
    "start_time=time.time()\n",
    "svm1.fit(x_train,y_train)\n",
    "end_time=time.time()\n",
    "svmt=end_time-start_time\n",
    "svm1_pred=svm1.predict(x_test)\n",
    "print(\"Accuracy of SVM:\",accuracy_score(svm1_pred,y_test))\n",
    "print(classification_report(svm1_pred,y_test))"
   ]
  },
  {
   "cell_type": "code",
   "execution_count": 188,
   "id": "01e5f964-e492-4e7c-b30b-5316e7b74d34",
   "metadata": {},
   "outputs": [
    {
     "data": {
      "text/html": [
       "<div>\n",
       "<style scoped>\n",
       "    .dataframe tbody tr th:only-of-type {\n",
       "        vertical-align: middle;\n",
       "    }\n",
       "\n",
       "    .dataframe tbody tr th {\n",
       "        vertical-align: top;\n",
       "    }\n",
       "\n",
       "    .dataframe thead th {\n",
       "        text-align: right;\n",
       "    }\n",
       "</style>\n",
       "<table border=\"1\" class=\"dataframe\">\n",
       "  <thead>\n",
       "    <tr style=\"text-align: right;\">\n",
       "      <th></th>\n",
       "      <th>Algorithm</th>\n",
       "      <th>Accuracy</th>\n",
       "    </tr>\n",
       "  </thead>\n",
       "  <tbody>\n",
       "    <tr>\n",
       "      <th>0</th>\n",
       "      <td>Logistic Regression</td>\n",
       "      <td>0.934343</td>\n",
       "    </tr>\n",
       "    <tr>\n",
       "      <th>1</th>\n",
       "      <td>SVM</td>\n",
       "      <td>0.893939</td>\n",
       "    </tr>\n",
       "    <tr>\n",
       "      <th>2</th>\n",
       "      <td>Decision Tree</td>\n",
       "      <td>0.914141</td>\n",
       "    </tr>\n",
       "    <tr>\n",
       "      <th>3</th>\n",
       "      <td>Random Forest</td>\n",
       "      <td>0.929293</td>\n",
       "    </tr>\n",
       "    <tr>\n",
       "      <th>4</th>\n",
       "      <td>KNN</td>\n",
       "      <td>0.919192</td>\n",
       "    </tr>\n",
       "    <tr>\n",
       "      <th>5</th>\n",
       "      <td>GNB</td>\n",
       "      <td>0.898990</td>\n",
       "    </tr>\n",
       "  </tbody>\n",
       "</table>\n",
       "</div>"
      ],
      "text/plain": [
       "             Algorithm  Accuracy\n",
       "0  Logistic Regression  0.934343\n",
       "1                  SVM  0.893939\n",
       "2        Decision Tree  0.914141\n",
       "3        Random Forest  0.929293\n",
       "4                  KNN  0.919192\n",
       "5                  GNB  0.898990"
      ]
     },
     "execution_count": 188,
     "metadata": {},
     "output_type": "execute_result"
    }
   ],
   "source": [
    "results_df={\"Algorithm\":['Logistic Regression',\"SVM\",'Decision Tree','Random Forest','KNN','GNB'],\"Accuracy\":[accuracy_score(lr1_pred,y_test),accuracy_score(svm1_pred,y_test),accuracy_score(dt1_pred,y_test),accuracy_score(rf1_pred,y_test),accuracy_score(KNN1_pred,y_test),accuracy_score(GNB1_pred,y_test)],   \n",
    "            #\"Recall\":[recall_score(lr1_pred,y_test),recall_score(svm1_pred,y_test),recall_score(dt1_pred,y_test),recall_score(rf1_pred,y_test),recall_score(KNN1_pred,y_test),recall_score(GNB1_pred,y_test)],\n",
    "            #\"Precision\":[precision_score(lr1_pred,y_test),precision_score(svm1_pred,y_test),precision_score(dt1_pred,y_test),precision_score(rf1_pred,y_test),precision_score(KNN1_pred,y_test),precision_score(GNB1_pred,y_test)],\n",
    "           #\"F1-Score\":[f1_score(lr1_pred,y_test),f1_score(svm1_pred,y_test),f1_score(dt1_pred,y_test),f1_score(rf1_pred,y_test),f1_score(KNN1_pred,y_test),f1_score(GNB1_pred,y_test)]\n",
    "           }\n",
    "results_df=pd.DataFrame(results_df)\n",
    "results_df"
   ]
  },
  {
   "cell_type": "code",
   "execution_count": 189,
   "id": "72d09221-7d1e-40d0-b7d7-8e3dabc143af",
   "metadata": {},
   "outputs": [
    {
     "data": {
      "text/plain": [
       "<Axes: title={'center': 'Accuracies of algorithms'}, xlabel='Algorithm', ylabel='Accuracy'>"
      ]
     },
     "execution_count": 189,
     "metadata": {},
     "output_type": "execute_result"
    },
    {
     "data": {
      "image/png": "[encoded data removed]",
      "text/plain": [
       "<Figure size 2500x300 with 1 Axes>"
      ]
     },
     "metadata": {},
     "output_type": "display_data"
    }
   ],
   "source": [
    "plt.figure(figsize=(25,3))\n",
    "plt.subplot(1,2,1)\n",
    "plt.title(\"Accuracies of algorithms\")\n",
    "plt.xticks(rotation=45)\n",
    "sns.lineplot(data=results_df,x=results_df['Algorithm'],y=results_df['Accuracy'])"
   ]
  },
  {
   "cell_type": "code",
   "execution_count": 190,
   "id": "a01a9d47-8ca9-4603-b207-9c08cfefc1f1",
   "metadata": {},
   "outputs": [
    {
     "data": {
      "image/png": "[encoded data removed]",
      "text/plain": [
       "<Figure size 1300x600 with 1 Axes>"
      ]
     },
     "metadata": {},
     "output_type": "display_data"
    }
   ],
   "source": [
    "ax=results_df.set_index('Algorithm').plot(kind='bar', figsize=(13, 6))\n",
    "\n",
    "plt.ylabel('Scores')\n",
    "plt.title('Algorithm Performance Metrics')\n",
    "\n",
    "for p in ax.patches:\n",
    "    ax.annotate(f'{p.get_height():.3f}', (p.get_x() + p.get_width() / 2., p.get_height()),\n",
    "                ha='center', va='center', xytext=(0, 10), textcoords='offset points', rotation=90)\n",
    "    \n",
    "plt.xticks(rotation=45, ha='right')\n",
    "plt.tight_layout()\n",
    "plt.show()"
   ]
  },
  {
   "cell_type": "code",
   "execution_count": 191,
   "id": "6f184e74-b39c-46af-9e2e-ed99b1ca1db0",
   "metadata": {},
   "outputs": [
    {
     "data": {
      "text/plain": [
       "Text(0.5, 1.0, 'Confusion Matrix of Random Forest')"
      ]
     },
     "execution_count": 191,
     "metadata": {},
     "output_type": "execute_result"
    },
    {
     "data": {
      "image/png": "[encoded data removed]",
      "text/plain": [
       "<Figure size 2000x500 with 6 Axes>"
      ]
     },
     "metadata": {},
     "output_type": "display_data"
    }
   ],
   "source": [
    "plt.figure(figsize=(20,5))\n",
    "\n",
    "plt.subplot(1,3,1)\n",
    "sns.heatmap(confusion_matrix(lr1_pred,y_test),annot=True,cmap='Blues')\n",
    "plt.title(\"Confusion Matrix of Logistic Regression\")\n",
    "\n",
    "plt.subplot(1,3,2)\n",
    "sns.heatmap(confusion_matrix(dt1_pred,y_test),annot=True,cmap='Greens')\n",
    "plt.title(\"Confusion Matrix of Decision Tree\")\n",
    "\n",
    "plt.subplot(1,3,3)\n",
    "sns.heatmap(confusion_matrix(rf1_pred,y_test),annot=True,cmap='Oranges')\n",
    "plt.title(\"Confusion Matrix of Random Forest\")"
   ]
  },
  {
   "cell_type": "code",
   "execution_count": 192,
   "id": "1b2ffaaf-2ea4-4e53-9e15-812b85f488b0",
   "metadata": {},
   "outputs": [
    {
     "data": {
      "text/plain": [
       "Text(0.5, 1.0, 'Confusion Matrix of Gaussian Naive Bayes')"
      ]
     },
     "execution_count": 192,
     "metadata": {},
     "output_type": "execute_result"
    },
    {
     "data": {
      "image/png": "[encoded data removed]",
      "text/plain": [
       "<Figure size 2000x500 with 6 Axes>"
      ]
     },
     "metadata": {},
     "output_type": "display_data"
    }
   ],
   "source": [
    "plt.figure(figsize=(20,5))\n",
    "\n",
    "plt.subplot(1,3,1)\n",
    "sns.heatmap(confusion_matrix(svm1_pred,y_test),annot=True,cmap='bone')\n",
    "plt.title(\"Confusion Matrix of SVM\")\n",
    "\n",
    "plt.subplot(1,3,2)\n",
    "sns.heatmap(confusion_matrix(KNN1_pred,y_test),annot=True,cmap='summer')\n",
    "plt.title(\"Confusion Matrix of KNN\")\n",
    "\n",
    "plt.subplot(1,3,3)\n",
    "sns.heatmap(confusion_matrix(GNB1_pred,y_test),annot=True,cmap='gist_heat')\n",
    "plt.title(\"Confusion Matrix of Gaussian Naive Bayes\")"
   ]
  },
  {
   "cell_type": "code",
   "execution_count": 193,
   "id": "5034d740-8e7e-4de1-a00a-9fcb8b97fb57",
   "metadata": {},
   "outputs": [
    {
     "data": {
      "text/html": [
       "<div>\n",
       "<style scoped>\n",
       "    .dataframe tbody tr th:only-of-type {\n",
       "        vertical-align: middle;\n",
       "    }\n",
       "\n",
       "    .dataframe tbody tr th {\n",
       "        vertical-align: top;\n",
       "    }\n",
       "\n",
       "    .dataframe thead th {\n",
       "        text-align: right;\n",
       "    }\n",
       "</style>\n",
       "<table border=\"1\" class=\"dataframe\">\n",
       "  <thead>\n",
       "    <tr style=\"text-align: right;\">\n",
       "      <th></th>\n",
       "      <th>Algorithm</th>\n",
       "      <th>Execution Time in Seconds</th>\n",
       "    </tr>\n",
       "  </thead>\n",
       "  <tbody>\n",
       "    <tr>\n",
       "      <th>0</th>\n",
       "      <td>Logistic Regression</td>\n",
       "      <td>0.016308</td>\n",
       "    </tr>\n",
       "    <tr>\n",
       "      <th>1</th>\n",
       "      <td>SVM</td>\n",
       "      <td>0.005621</td>\n",
       "    </tr>\n",
       "    <tr>\n",
       "      <th>2</th>\n",
       "      <td>Decision Tree</td>\n",
       "      <td>0.004704</td>\n",
       "    </tr>\n",
       "    <tr>\n",
       "      <th>3</th>\n",
       "      <td>Random Forest</td>\n",
       "      <td>0.567225</td>\n",
       "    </tr>\n",
       "    <tr>\n",
       "      <th>4</th>\n",
       "      <td>KNN</td>\n",
       "      <td>0.003779</td>\n",
       "    </tr>\n",
       "    <tr>\n",
       "      <th>5</th>\n",
       "      <td>GNB</td>\n",
       "      <td>0.000000</td>\n",
       "    </tr>\n",
       "  </tbody>\n",
       "</table>\n",
       "</div>"
      ],
      "text/plain": [
       "             Algorithm  Execution Time in Seconds\n",
       "0  Logistic Regression                   0.016308\n",
       "1                  SVM                   0.005621\n",
       "2        Decision Tree                   0.004704\n",
       "3        Random Forest                   0.567225\n",
       "4                  KNN                   0.003779\n",
       "5                  GNB                   0.000000"
      ]
     },
     "execution_count": 193,
     "metadata": {},
     "output_type": "execute_result"
    }
   ],
   "source": [
    "time_df={\"Algorithm\":['Logistic Regression',\"SVM\",'Decision Tree','Random Forest','KNN','GNB'],\n",
    "         \"Execution Time in Seconds\":[lrt,svmt,dtt,rft,KNNt,GNBt]}\n",
    "time_df=pd.DataFrame(time_df)\n",
    "time_df"
   ]
  },
  {
   "cell_type": "code",
   "execution_count": 194,
   "id": "321c7e4b-5a0d-4b83-a32a-cbf8d211c879",
   "metadata": {},
   "outputs": [
    {
     "data": {
      "text/plain": [
       "Text(0.5, 1.0, 'Time Taken For Model Training')"
      ]
     },
     "execution_count": 194,
     "metadata": {},
     "output_type": "execute_result"
    },
    {
     "data": {
      "image/png": "[encoded data removed]",
      "text/plain": [
       "<Figure size 1000x500 with 1 Axes>"
      ]
     },
     "metadata": {},
     "output_type": "display_data"
    }
   ],
   "source": [
    "plt.figure(figsize=(10,5))\n",
    "sns.barplot(data=time_df,x=time_df['Algorithm'],y=time_df['Execution Time in Seconds'])\n",
    "plt.xlabel(\"Algorithms\")\n",
    "plt.ylabel(\"Execution Time in Seconds\")\n",
    "plt.title(\"Time Taken For Model Training\")"
   ]
  },
  {
   "cell_type": "code",
   "execution_count": 195,
   "id": "a567a237-0ce0-49b5-880c-dd250caaa5cf",
   "metadata": {},
   "outputs": [
    {
     "name": "stdout",
     "output_type": "stream",
     "text": [
      "Model saved as 'rf1.joblib'\n"
     ]
    }
   ],
   "source": [
    "from joblib import dump\n",
    "dump(rf1, 'rf1.joblib')\n",
    "print(\"Model saved as 'rf1.joblib'\")"
   ]
  },
  {
   "cell_type": "code",
   "execution_count": 196,
   "id": "ec95ae17-ff6e-4b06-9056-15fa43b12078",
   "metadata": {},
   "outputs": [
    {
     "data": {
      "text/html": [
       "<style>#sk-container-id-3 {\n",
       "  /* Definition of color scheme common for light and dark mode */\n",
       "  --sklearn-color-text: black;\n",
       "  --sklearn-color-line: gray;\n",
       "  /* Definition of color scheme for unfitted estimators */\n",
       "  --sklearn-color-unfitted-level-0: #fff5e6;\n",
       "  --sklearn-color-unfitted-level-1: #f6e4d2;\n",
       "  --sklearn-color-unfitted-level-2: #ffe0b3;\n",
       "  --sklearn-color-unfitted-level-3: chocolate;\n",
       "  /* Definition of color scheme for fitted estimators */\n",
       "  --sklearn-color-fitted-level-0: #f0f8ff;\n",
       "  --sklearn-color-fitted-level-1: #d4ebff;\n",
       "  --sklearn-color-fitted-level-2: #b3dbfd;\n",
       "  --sklearn-color-fitted-level-3: cornflowerblue;\n",
       "\n",
       "  /* Specific color for light theme */\n",
       "  --sklearn-color-text-on-default-background: var(--sg-text-color, var(--theme-code-foreground, var(--jp-content-font-color1, black)));\n",
       "  --sklearn-color-background: var(--sg-background-color, var(--theme-background, var(--jp-layout-color0, white)));\n",
       "  --sklearn-color-border-box: var(--sg-text-color, var(--theme-code-foreground, var(--jp-content-font-color1, black)));\n",
       "  --sklearn-color-icon: #696969;\n",
       "\n",
       "  @media (prefers-color-scheme: dark) {\n",
       "    /* Redefinition of color scheme for dark theme */\n",
       "    --sklearn-color-text-on-default-background: var(--sg-text-color, var(--theme-code-foreground, var(--jp-content-font-color1, white)));\n",
       "    --sklearn-color-background: var(--sg-background-color, var(--theme-background, var(--jp-layout-color0, #111)));\n",
       "    --sklearn-color-border-box: var(--sg-text-color, var(--theme-code-foreground, var(--jp-content-font-color1, white)));\n",
       "    --sklearn-color-icon: #878787;\n",
       "  }\n",
       "}\n",
       "\n",
       "#sk-container-id-3 {\n",
       "  color: var(--sklearn-color-text);\n",
       "}\n",
       "\n",
       "#sk-container-id-3 pre {\n",
       "  padding: 0;\n",
       "}\n",
       "\n",
       "#sk-container-id-3 input.sk-hidden--visually {\n",
       "  border: 0;\n",
       "  clip: rect(1px 1px 1px 1px);\n",
       "  clip: rect(1px, 1px, 1px, 1px);\n",
       "  height: 1px;\n",
       "  margin: -1px;\n",
       "  overflow: hidden;\n",
       "  padding: 0;\n",
       "  position: absolute;\n",
       "  width: 1px;\n",
       "}\n",
       "\n",
       "#sk-container-id-3 div.sk-dashed-wrapped {\n",
       "  border: 1px dashed var(--sklearn-color-line);\n",
       "  margin: 0 0.4em 0.5em 0.4em;\n",
       "  box-sizing: border-box;\n",
       "  padding-bottom: 0.4em;\n",
       "  background-color: var(--sklearn-color-background);\n",
       "}\n",
       "\n",
       "#sk-container-id-3 div.sk-container {\n",
       "  /* jupyter's `normalize.less` sets `[hidden] { display: none; }`\n",
       "     but bootstrap.min.css set `[hidden] { display: none !important; }`\n",
       "     so we also need the `!important` here to be able to override the\n",
       "     default hidden behavior on the sphinx rendered scikit-learn.org.\n",
       "     See: https://github.com/scikit-learn/scikit-learn/issues/21755 */\n",
       "  display: inline-block !important;\n",
       "  position: relative;\n",
       "}\n",
       "\n",
       "#sk-container-id-3 div.sk-text-repr-fallback {\n",
       "  display: none;\n",
       "}\n",
       "\n",
       "div.sk-parallel-item,\n",
       "div.sk-serial,\n",
       "div.sk-item {\n",
       "  /* draw centered vertical line to link estimators */\n",
       "  background-image: linear-gradient(var(--sklearn-color-text-on-default-background), var(--sklearn-color-text-on-default-background));\n",
       "  background-size: 2px 100%;\n",
       "  background-repeat: no-repeat;\n",
       "  background-position: center center;\n",
       "}\n",
       "\n",
       "/* Parallel-specific style estimator block */\n",
       "\n",
       "#sk-container-id-3 div.sk-parallel-item::after {\n",
       "  content: \"\";\n",
       "  width: 100%;\n",
       "  border-bottom: 2px solid var(--sklearn-color-text-on-default-background);\n",
       "  flex-grow: 1;\n",
       "}\n",
       "\n",
       "#sk-container-id-3 div.sk-parallel {\n",
       "  display: flex;\n",
       "  align-items: stretch;\n",
       "  justify-content: center;\n",
       "  background-color: var(--sklearn-color-background);\n",
       "  position: relative;\n",
       "}\n",
       "\n",
       "#sk-container-id-3 div.sk-parallel-item {\n",
       "  display: flex;\n",
       "  flex-direction: column;\n",
       "}\n",
       "\n",
       "#sk-container-id-3 div.sk-parallel-item:first-child::after {\n",
       "  align-self: flex-end;\n",
       "  width: 50%;\n",
       "}\n",
       "\n",
       "#sk-container-id-3 div.sk-parallel-item:last-child::after {\n",
       "  align-self: flex-start;\n",
       "  width: 50%;\n",
       "}\n",
       "\n",
       "#sk-container-id-3 div.sk-parallel-item:only-child::after {\n",
       "  width: 0;\n",
       "}\n",
       "\n",
       "/* Serial-specific style estimator block */\n",
       "\n",
       "#sk-container-id-3 div.sk-serial {\n",
       "  display: flex;\n",
       "  flex-direction: column;\n",
       "  align-items: center;\n",
       "  background-color: var(--sklearn-color-background);\n",
       "  padding-right: 1em;\n",
       "  padding-left: 1em;\n",
       "}\n",
       "\n",
       "\n",
       "/* Toggleable style: style used for estimator/Pipeline/ColumnTransformer box that is\n",
       "clickable and can be expanded/collapsed.\n",
       "- Pipeline and ColumnTransformer use this feature and define the default style\n",
       "- Estimators will overwrite some part of the style using the `sk-estimator` class\n",
       "*/\n",
       "\n",
       "/* Pipeline and ColumnTransformer style (default) */\n",
       "\n",
       "#sk-container-id-3 div.sk-toggleable {\n",
       "  /* Default theme specific background. It is overwritten whether we have a\n",
       "  specific estimator or a Pipeline/ColumnTransformer */\n",
       "  background-color: var(--sklearn-color-background);\n",
       "}\n",
       "\n",
       "/* Toggleable label */\n",
       "#sk-container-id-3 label.sk-toggleable__label {\n",
       "  cursor: pointer;\n",
       "  display: block;\n",
       "  width: 100%;\n",
       "  margin-bottom: 0;\n",
       "  padding: 0.5em;\n",
       "  box-sizing: border-box;\n",
       "  text-align: center;\n",
       "}\n",
       "\n",
       "#sk-container-id-3 label.sk-toggleable__label-arrow:before {\n",
       "  /* Arrow on the left of the label */\n",
       "  content: \"▸\";\n",
       "  float: left;\n",
       "  margin-right: 0.25em;\n",
       "  color: var(--sklearn-color-icon);\n",
       "}\n",
       "\n",
       "#sk-container-id-3 label.sk-toggleable__label-arrow:hover:before {\n",
       "  color: var(--sklearn-color-text);\n",
       "}\n",
       "\n",
       "/* Toggleable content - dropdown */\n",
       "\n",
       "#sk-container-id-3 div.sk-toggleable__content {\n",
       "  max-height: 0;\n",
       "  max-width: 0;\n",
       "  overflow: hidden;\n",
       "  text-align: left;\n",
       "  /* unfitted */\n",
       "  background-color: var(--sklearn-color-unfitted-level-0);\n",
       "}\n",
       "\n",
       "#sk-container-id-3 div.sk-toggleable__content.fitted {\n",
       "  /* fitted */\n",
       "  background-color: var(--sklearn-color-fitted-level-0);\n",
       "}\n",
       "\n",
       "#sk-container-id-3 div.sk-toggleable__content pre {\n",
       "  margin: 0.2em;\n",
       "  border-radius: 0.25em;\n",
       "  color: var(--sklearn-color-text);\n",
       "  /* unfitted */\n",
       "  background-color: var(--sklearn-color-unfitted-level-0);\n",
       "}\n",
       "\n",
       "#sk-container-id-3 div.sk-toggleable__content.fitted pre {\n",
       "  /* unfitted */\n",
       "  background-color: var(--sklearn-color-fitted-level-0);\n",
       "}\n",
       "\n",
       "#sk-container-id-3 input.sk-toggleable__control:checked~div.sk-toggleable__content {\n",
       "  /* Expand drop-down */\n",
       "  max-height: 200px;\n",
       "  max-width: 100%;\n",
       "  overflow: auto;\n",
       "}\n",
       "\n",
       "#sk-container-id-3 input.sk-toggleable__control:checked~label.sk-toggleable__label-arrow:before {\n",
       "  content: \"▾\";\n",
       "}\n",
       "\n",
       "/* Pipeline/ColumnTransformer-specific style */\n",
       "\n",
       "#sk-container-id-3 div.sk-label input.sk-toggleable__control:checked~label.sk-toggleable__label {\n",
       "  color: var(--sklearn-color-text);\n",
       "  background-color: var(--sklearn-color-unfitted-level-2);\n",
       "}\n",
       "\n",
       "#sk-container-id-3 div.sk-label.fitted input.sk-toggleable__control:checked~label.sk-toggleable__label {\n",
       "  background-color: var(--sklearn-color-fitted-level-2);\n",
       "}\n",
       "\n",
       "/* Estimator-specific style */\n",
       "\n",
       "/* Colorize estimator box */\n",
       "#sk-container-id-3 div.sk-estimator input.sk-toggleable__control:checked~label.sk-toggleable__label {\n",
       "  /* unfitted */\n",
       "  background-color: var(--sklearn-color-unfitted-level-2);\n",
       "}\n",
       "\n",
       "#sk-container-id-3 div.sk-estimator.fitted input.sk-toggleable__control:checked~label.sk-toggleable__label {\n",
       "  /* fitted */\n",
       "  background-color: var(--sklearn-color-fitted-level-2);\n",
       "}\n",
       "\n",
       "#sk-container-id-3 div.sk-label label.sk-toggleable__label,\n",
       "#sk-container-id-3 div.sk-label label {\n",
       "  /* The background is the default theme color */\n",
       "  color: var(--sklearn-color-text-on-default-background);\n",
       "}\n",
       "\n",
       "/* On hover, darken the color of the background */\n",
       "#sk-container-id-3 div.sk-label:hover label.sk-toggleable__label {\n",
       "  color: var(--sklearn-color-text);\n",
       "  background-color: var(--sklearn-color-unfitted-level-2);\n",
       "}\n",
       "\n",
       "/* Label box, darken color on hover, fitted */\n",
       "#sk-container-id-3 div.sk-label.fitted:hover label.sk-toggleable__label.fitted {\n",
       "  color: var(--sklearn-color-text);\n",
       "  background-color: var(--sklearn-color-fitted-level-2);\n",
       "}\n",
       "\n",
       "/* Estimator label */\n",
       "\n",
       "#sk-container-id-3 div.sk-label label {\n",
       "  font-family: monospace;\n",
       "  font-weight: bold;\n",
       "  display: inline-block;\n",
       "  line-height: 1.2em;\n",
       "}\n",
       "\n",
       "#sk-container-id-3 div.sk-label-container {\n",
       "  text-align: center;\n",
       "}\n",
       "\n",
       "/* Estimator-specific */\n",
       "#sk-container-id-3 div.sk-estimator {\n",
       "  font-family: monospace;\n",
       "  border: 1px dotted var(--sklearn-color-border-box);\n",
       "  border-radius: 0.25em;\n",
       "  box-sizing: border-box;\n",
       "  margin-bottom: 0.5em;\n",
       "  /* unfitted */\n",
       "  background-color: var(--sklearn-color-unfitted-level-0);\n",
       "}\n",
       "\n",
       "#sk-container-id-3 div.sk-estimator.fitted {\n",
       "  /* fitted */\n",
       "  background-color: var(--sklearn-color-fitted-level-0);\n",
       "}\n",
       "\n",
       "/* on hover */\n",
       "#sk-container-id-3 div.sk-estimator:hover {\n",
       "  /* unfitted */\n",
       "  background-color: var(--sklearn-color-unfitted-level-2);\n",
       "}\n",
       "\n",
       "#sk-container-id-3 div.sk-estimator.fitted:hover {\n",
       "  /* fitted */\n",
       "  background-color: var(--sklearn-color-fitted-level-2);\n",
       "}\n",
       "\n",
       "/* Specification for estimator info (e.g. \"i\" and \"?\") */\n",
       "\n",
       "/* Common style for \"i\" and \"?\" */\n",
       "\n",
       ".sk-estimator-doc-link,\n",
       "a:link.sk-estimator-doc-link,\n",
       "a:visited.sk-estimator-doc-link {\n",
       "  float: right;\n",
       "  font-size: smaller;\n",
       "  line-height: 1em;\n",
       "  font-family: monospace;\n",
       "  background-color: var(--sklearn-color-background);\n",
       "  border-radius: 1em;\n",
       "  height: 1em;\n",
       "  width: 1em;\n",
       "  text-decoration: none !important;\n",
       "  margin-left: 1ex;\n",
       "  /* unfitted */\n",
       "  border: var(--sklearn-color-unfitted-level-1) 1pt solid;\n",
       "  color: var(--sklearn-color-unfitted-level-1);\n",
       "}\n",
       "\n",
       ".sk-estimator-doc-link.fitted,\n",
       "a:link.sk-estimator-doc-link.fitted,\n",
       "a:visited.sk-estimator-doc-link.fitted {\n",
       "  /* fitted */\n",
       "  border: var(--sklearn-color-fitted-level-1) 1pt solid;\n",
       "  color: var(--sklearn-color-fitted-level-1);\n",
       "}\n",
       "\n",
       "/* On hover */\n",
       "div.sk-estimator:hover .sk-estimator-doc-link:hover,\n",
       ".sk-estimator-doc-link:hover,\n",
       "div.sk-label-container:hover .sk-estimator-doc-link:hover,\n",
       ".sk-estimator-doc-link:hover {\n",
       "  /* unfitted */\n",
       "  background-color: var(--sklearn-color-unfitted-level-3);\n",
       "  color: var(--sklearn-color-background);\n",
       "  text-decoration: none;\n",
       "}\n",
       "\n",
       "div.sk-estimator.fitted:hover .sk-estimator-doc-link.fitted:hover,\n",
       ".sk-estimator-doc-link.fitted:hover,\n",
       "div.sk-label-container:hover .sk-estimator-doc-link.fitted:hover,\n",
       ".sk-estimator-doc-link.fitted:hover {\n",
       "  /* fitted */\n",
       "  background-color: var(--sklearn-color-fitted-level-3);\n",
       "  color: var(--sklearn-color-background);\n",
       "  text-decoration: none;\n",
       "}\n",
       "\n",
       "/* Span, style for the box shown on hovering the info icon */\n",
       ".sk-estimator-doc-link span {\n",
       "  display: none;\n",
       "  z-index: 9999;\n",
       "  position: relative;\n",
       "  font-weight: normal;\n",
       "  right: .2ex;\n",
       "  padding: .5ex;\n",
       "  margin: .5ex;\n",
       "  width: min-content;\n",
       "  min-width: 20ex;\n",
       "  max-width: 50ex;\n",
       "  color: var(--sklearn-color-text);\n",
       "  box-shadow: 2pt 2pt 4pt #999;\n",
       "  /* unfitted */\n",
       "  background: var(--sklearn-color-unfitted-level-0);\n",
       "  border: .5pt solid var(--sklearn-color-unfitted-level-3);\n",
       "}\n",
       "\n",
       ".sk-estimator-doc-link.fitted span {\n",
       "  /* fitted */\n",
       "  background: var(--sklearn-color-fitted-level-0);\n",
       "  border: var(--sklearn-color-fitted-level-3);\n",
       "}\n",
       "\n",
       ".sk-estimator-doc-link:hover span {\n",
       "  display: block;\n",
       "}\n",
       "\n",
       "/* \"?\"-specific style due to the `<a>` HTML tag */\n",
       "\n",
       "#sk-container-id-3 a.estimator_doc_link {\n",
       "  float: right;\n",
       "  font-size: 1rem;\n",
       "  line-height: 1em;\n",
       "  font-family: monospace;\n",
       "  background-color: var(--sklearn-color-background);\n",
       "  border-radius: 1rem;\n",
       "  height: 1rem;\n",
       "  width: 1rem;\n",
       "  text-decoration: none;\n",
       "  /* unfitted */\n",
       "  color: var(--sklearn-color-unfitted-level-1);\n",
       "  border: var(--sklearn-color-unfitted-level-1) 1pt solid;\n",
       "}\n",
       "\n",
       "#sk-container-id-3 a.estimator_doc_link.fitted {\n",
       "  /* fitted */\n",
       "  border: var(--sklearn-color-fitted-level-1) 1pt solid;\n",
       "  color: var(--sklearn-color-fitted-level-1);\n",
       "}\n",
       "\n",
       "/* On hover */\n",
       "#sk-container-id-3 a.estimator_doc_link:hover {\n",
       "  /* unfitted */\n",
       "  background-color: var(--sklearn-color-unfitted-level-3);\n",
       "  color: var(--sklearn-color-background);\n",
       "  text-decoration: none;\n",
       "}\n",
       "\n",
       "#sk-container-id-3 a.estimator_doc_link.fitted:hover {\n",
       "  /* fitted */\n",
       "  background-color: var(--sklearn-color-fitted-level-3);\n",
       "}\n",
       "</style><div id=\"sk-container-id-3\" class=\"sk-top-container\"><div class=\"sk-text-repr-fallback\"><pre>RandomForestClassifier(n_estimators=500)</pre><b>In a Jupyter environment, please rerun this cell to show the HTML representation or trust the notebook. <br />On GitHub, the HTML representation is unable to render, please try loading this page with nbviewer.org.</b></div><div class=\"sk-container\" hidden><div class=\"sk-item\"><div class=\"sk-estimator fitted sk-toggleable\"><input class=\"sk-toggleable__control sk-hidden--visually\" id=\"sk-estimator-id-3\" type=\"checkbox\" checked><label for=\"sk-estimator-id-3\" class=\"sk-toggleable__label fitted sk-toggleable__label-arrow fitted\">&nbsp;&nbsp;RandomForestClassifier<a class=\"sk-estimator-doc-link fitted\" rel=\"noreferrer\" target=\"_blank\" href=\"https://scikit-learn.org/1.5/modules/generated/sklearn.ensemble.RandomForestClassifier.html\">?<span>Documentation for RandomForestClassifier</span></a><span class=\"sk-estimator-doc-link fitted\">i<span>Fitted</span></span></label><div class=\"sk-toggleable__content fitted\"><pre>RandomForestClassifier(n_estimators=500)</pre></div> </div></div></div></div>"
      ],
      "text/plain": [
       "RandomForestClassifier(n_estimators=500)"
      ]
     },
     "execution_count": 196,
     "metadata": {},
     "output_type": "execute_result"
    }
   ],
   "source": [
    "from joblib import load\n",
    "load(\"rf1.joblib\")"
   ]
  },
  {
   "cell_type": "code",
   "execution_count": 197,
   "id": "5122c93c-5696-4a2d-8d1b-862b9afaf9b9",
   "metadata": {},
   "outputs": [
    {
     "name": "stdout",
     "output_type": "stream",
     "text": [
      "Actual Value 75    1.0\n",
      "Name: Sleep Disorder, dtype: float64\n",
      "Predicted is  [1]\n"
     ]
    }
   ],
   "source": [
    "def preprocess(object_cols,numerical_cols,sc,le):\n",
    "    testing=pd.read_csv(r\"Sleep_health_and_lifestyle_dataset.csv\")\n",
    "    testing.drop(columns=['Person ID'],inplace=True)\n",
    "    testing['Sleep Disorder']=testing['Sleep Disorder'].fillna('No Disorder')\n",
    "    for i in object_cols:\n",
    "        testing[i]=le.fit_transform(testing[i])\n",
    "    testing[numerical_cols]=sc.fit_transform(testing[numerical_cols])\n",
    "    testing=pd.DataFrame(testing.iloc[75]).T\n",
    "    print(\"Actual Value\",testing['Sleep Disorder'])\n",
    "    testing.drop(columns=['Sleep Disorder'],inplace=True)\n",
    "    print(\"Predicted is \",rf1.predict(testing))\n",
    "    #return rf1.predict(testing)\n",
    "\n",
    "preprocess(object_cols,numerical_cols,sc,le)    "
   ]
  },
  {
   "cell_type": "code",
   "execution_count": 198,
   "id": "6e13538b-4d3c-47df-896d-5b5fdc94fff2",
   "metadata": {},
   "outputs": [
    {
     "name": "stdout",
     "output_type": "stream",
     "text": [
      "Actual Value: 1.0\n",
      "\n",
      "⚠ Predicted: Sleep Disorder Detected\n",
      "\n",
      "Here are some precautionary measures and treatment options:\n",
      "\n",
      "🛡 Precautionary Measures:\n",
      "- Maintain a consistent sleep schedule, even on weekends.\n",
      "- Create a relaxing bedtime routine to wind down.\n",
      "- Ensure your bedroom is quiet, dark, and at a comfortable temperature.\n",
      "- Limit exposure to screens at least an hour before bedtime.\n",
      "- Avoid caffeine, nicotine, and heavy meals close to bedtime.\n",
      "\n",
      "🩺 Treatment Options:\n",
      "- Cognitive Behavioral Therapy for Insomnia (CBT-I).\n",
      "- Light therapy to reset circadian rhythms.\n",
      "- Use of CPAP machines for sleep apnea.\n",
      "- Short-term use of sleep medications under medical supervision.\n",
      "- Relaxation techniques like deep breathing and meditation.\n"
     ]
    }
   ],
   "source": [
    "def preprocess(object_cols, numerical_cols, sc, le):\n",
    "\n",
    "    testing = pd.read_csv(r\"Sleep_health_and_lifestyle_dataset.csv\")\n",
    "    testing.drop(columns=['Person ID'], inplace=True)\n",
    "    testing['Sleep Disorder'] = testing['Sleep Disorder'].fillna('No Disorder')\n",
    "\n",
    "    for col in object_cols:\n",
    "        testing[col] = le.fit_transform(testing[col])\n",
    "\n",
    "    testing[numerical_cols] = sc.fit_transform(testing[numerical_cols])\n",
    "\n",
    "    # Select the 76th record (index 75)\n",
    "    sample = pd.DataFrame(testing.iloc[75]).T\n",
    "    actual = sample['Sleep Disorder'].values[0]\n",
    "    sample.drop(columns=['Sleep Disorder'], inplace=True)\n",
    "\n",
    "    prediction = rf1.predict(sample)[0]\n",
    "\n",
    "    print(f\"Actual Value: {actual}\")\n",
    "    if prediction == 1:\n",
    "        print(\"\\n⚠ Predicted: Sleep Disorder Detected\\n\")\n",
    "        print(\"Here are some precautionary measures and treatment options:\")\n",
    "        print(\"\\n🛡 Precautionary Measures:\")\n",
    "        print(\"- Maintain a consistent sleep schedule, even on weekends.\")\n",
    "        print(\"- Create a relaxing bedtime routine to wind down.\")\n",
    "        print(\"- Ensure your bedroom is quiet, dark, and at a comfortable temperature.\")\n",
    "        print(\"- Limit exposure to screens at least an hour before bedtime.\")\n",
    "        print(\"- Avoid caffeine, nicotine, and heavy meals close to bedtime.\")\n",
    "        print(\"\\n🩺 Treatment Options:\")\n",
    "        print(\"- Cognitive Behavioral Therapy for Insomnia (CBT-I).\")\n",
    "        print(\"- Light therapy to reset circadian rhythms.\")\n",
    "        print(\"- Use of CPAP machines for sleep apnea.\")\n",
    "        print(\"- Short-term use of sleep medications under medical supervision.\")\n",
    "        print(\"- Relaxation techniques like deep breathing and meditation.\")\n",
    "    else:\n",
    "        print(\"\\n✅ Predicted: No Sleep Disorder Detected\\n\")\n",
    "        print(\"Keep up the good sleep habits to maintain your sleep health!\")\n",
    "\n",
    "preprocess(object_cols,numerical_cols,sc,le)"
   ]
  },
  {
   "cell_type": "code",
   "execution_count": null,
   "id": "fd27a18d-5cbc-4eb0-a286-f97899508a96",
   "metadata": {},
   "outputs": [],
   "source": []
  }
 ],
 "metadata": {
  "kernelspec": {
   "display_name": "Python 3 (ipykernel)",
   "language": "python",
   "name": "python3"
  },
  "language_info": {
   "codemirror_mode": {
    "name": "ipython",
    "version": 3
   },
   "file_extension": ".py",
   "mimetype": "text/x-python",
   "name": "python",
   "nbconvert_exporter": "python",
   "pygments_lexer": "ipython3",
   "version": "3.12.7"
  }
 },
 "nbformat": 4,
 "nbformat_minor": 5
}
